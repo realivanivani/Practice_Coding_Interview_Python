{
 "cells": [
  {
   "cell_type": "markdown",
   "id": "23efda10",
   "metadata": {},
   "source": [
    "### How to pass a variable number of arguments to a function?\n",
    "\n",
    "1. How to pass a variable number of arguments to a function?\n",
    "In this chapter we'll go through common questions on Python functions. We'll start with the problem of passing a variable number of arguments to a function.\n",
    "\n",
    "2. Argument types\n",
    "Functions can have the following argument types:\n",
    "    - positional arguments\n",
    "    - and keyword arguments.\n",
    "\n",
    "6. Positional arguments\n",
    "Positional arguments are just simple arguments we pass to a function. For example, let's define a function that multiplies two numbers and returns the result. Here is the output of the call.\n",
    "\n",
    "7. *args\n",
    "Actually, we can have a variable number of positional arguments in our function definition. We can do this by using a name prefixed with an asterisk as an argument. In this case, we can call our function with as many positional arguments as we want.\n",
    "\n",
    "    Let's see what happens if our function body will simply print our input. The arguments are interpreted as a tuple!\n",
    "\n",
    "    It means we can iterate through it. Calling the function will print each single item.\n",
    "\n",
    "10. Redefining multiply()\n",
    "Let's redefine our multiply() function now. Calling it with a variable number of arguments works! Notice that the name args is just a convention: we can use any name we like.\n",
    "\n",
    "    Substituting args with nums won't change anything.\n",
    "\n",
    "12. Another use of single asterisk *\n",
    "The single asterisk also has another use. Assume we have a function with a predefined number of positional arguments. Instead of precisely defining each argument in the call,\n",
    "\n",
    "    we can first create an iterable object, for example a tuple. Then, we pass the tuple prefixed with an asterisk to the function call. It unwraps into the corresponding arguments. We can also define only part of the necessary arguments, and add some more in the function call.\n",
    "\n",
    "    We can actually do the unwrapping with a variable number of arguments as well. We define our Iterable and call the function with it prefixed with an asterisk.\n",
    "\n",
    "    def multiply(*args):\n",
    "\n",
    "        result = 1\n",
    "    \n",
    "        for arg in args:\n",
    "        \n",
    "            result = result * arg\n",
    "        \n",
    "        return result\n",
    "    \n",
    "    nums = (2,3,4,5)\n",
    "\n",
    "    miltiply(*nums)\n",
    "\n",
    "    > 120\n",
    "\n",
    "16. Keyword arguments\n",
    "Keyword arguments are positional arguments having default values. For example, let's define a function. We can call it as usual. We can also skip the arguments forcing the function to use its default values.\n",
    "\n",
    "    Or we can precisely specify the names in any sequence we want. It is also possible to use a variable amount of keyword arguments.\n",
    "\n",
    "18. **kwargs\n",
    "This is achieved by using a name prefixed with a double asterisk as an argument. If we define the following function and call it with a variable number of named arguments, the output will represent a dictionary. Passing an argument without a name will raise an error.\n",
    "\n",
    "    def func_with_kwargs(**kwargs):\n",
    "\n",
    "           print(kwargs)\n",
    "       \n",
    "    func_with_kwargs(arg1=1,arg2=2,arg3=3)\n",
    "\n",
    "    > {arg1:1, arg2:2, arg3:3}\n",
    "\n",
    "19. Redefining multiply()\n",
    "Let's redefine our multiply() function with the **kwargs argument. The difference to our previous implementation is that we iterate through the key-value pairs instead of simple values.\n",
    "\n",
    "    def multiply(**kwargs):\n",
    "    \n",
    "        result = 1\n",
    "    \n",
    "        for (key,value) in kwargs.items():\n",
    "        \n",
    "        print(key + ' = ' + str(value))\n",
    "        \n",
    "        result = result * value\n",
    "        \n",
    "    return result\n",
    "    \n",
    "\n",
    "20. Calling multiply_kwargs()\n",
    "Let's check how our function works! Here is the output we get.\n",
    "\n",
    "21. Another use of double asterisk **\n",
    "As with the example on single asterisk, double asterisk can have another meaning. Assume, we have a function with a predefined number of keyword arguments. By default it returns this.\n",
    "\n",
    "Let's define the following dictionary with the key names matching the argument names in our function. Then, let's pass it prefixed with double asterisk to the function call.\n",
    "\n",
    "We can have a dictionary defining only the part of the arguments. In this case the output looks like this. The argument that was not defined in the dictionary takes its default value.\n",
    "\n",
    "Inserting other keys in the dictionary will result in TypeError.\n",
    "\n",
    "Unwrapping works if a function has a variable number of arguments. We just define our dictionary and pass it to the function prefixed with double asterisk.\n",
    "\n",
    "\n",
    "26. Argument order\n",
    "A function can combine different types of arguments. But the order should be followed.\n",
    "\n",
    "\n",
    "First, positional arguments.\n",
    "arg1, arg2\n",
    "\n",
    "Then, their extension. *args\n",
    "\n",
    "Then, keyword arguments.kwarg1 = 10, kwarg2=20\n",
    "\n",
    "And their extension. **kwargs\n",
    "\n",
    "Of course we can skip some arguments if they are not needed. However, it is better to follow the order.\n",
    "\n",
    "    def func(arg1, arg2, *args)\n",
    "    def func(arg1, arg2, **kwargs)\n",
    "    def func(*args, **kwargs)\n",
    "\n",
    "Breaking this rule can cause unexpected behavior and errors."
   ]
  },
  {
   "cell_type": "markdown",
   "id": "0a816f30",
   "metadata": {},
   "source": [
    "#### Positional arguments of variable size\n",
    "Let's practice positional arguments of variable size. Your task is to define the function sort_types(). It takes a variable number of positional arguments and checks if each argument is a number or a string. The checked item is inserted afterwards either in the nums or strings list. Eventually, the function returns a tuple containing these lists.\n",
    "\n",
    "Use the Python's built-in isinstance() function to check if an object is of a certain type (e.g. isinstance(1, int) returns True) or one of the types (e.g. isinstance(5.65, (int, str)) returns False).\n",
    "\n",
    "Types to use in this task are int, float, and str."
   ]
  },
  {
   "cell_type": "code",
   "execution_count": 1,
   "id": "975b5bf0",
   "metadata": {},
   "outputs": [
    {
     "name": "stdout",
     "output_type": "stream",
     "text": [
      "([1.57, 4, 5, 0.89], ['car', 'hat', 'tree'])\n"
     ]
    }
   ],
   "source": [
    "# Define the function with an arbitrary number of arguments\n",
    "def sort_types(*args):\n",
    "    nums, strings = [], []    \n",
    "    for arg in args:\n",
    "        # Check if 'arg' is a number and add it to 'nums'\n",
    "        if isinstance(arg, (int, float)):\n",
    "            nums.append(arg)\n",
    "        # Check if 'arg' is a string and add it to 'strings'\n",
    "        elif isinstance(arg, str):\n",
    "            strings.append(arg)\n",
    "    \n",
    "    return (nums, strings)\n",
    "            \n",
    "print(sort_types(1.57, 'car', 'hat', 4, 5, 'tree', 0.89))"
   ]
  },
  {
   "cell_type": "markdown",
   "id": "1a530d29",
   "metadata": {},
   "source": [
    "#### Keyword arguments of variable size\n",
    "Now let's move to keyword arguments of variable size! Your task is to define the function key_types(). It should take a variable number of keyword arguments and return a new dictionary: the keys are unique object types of arguments passed to the key_types() function and the associated values represent lists. Each list should contain argument names that follow the type defined as a key (e.g. calling the key_types(kwarg1='a', kwarg2='b', kwarg3=1) results in {<class 'int'>: ['kwarg3'], <class 'str'>: ['kwarg1', 'kwarg2']}).\n",
    "\n",
    "To retrieve the type of an object, you need to use the type() function (e.g. type(1) is int)."
   ]
  },
  {
   "cell_type": "code",
   "execution_count": 2,
   "id": "ec5a3a31",
   "metadata": {},
   "outputs": [
    {
     "name": "stdout",
     "output_type": "stream",
     "text": [
      "{<class 'int'>: ['a', 'b'], <class 'tuple'>: ['c'], <class 'float'>: ['d', 'e']}\n"
     ]
    }
   ],
   "source": [
    "# Define the function with an arbitrary number of arguments\n",
    "def key_types(**kwargs):\n",
    "    dict_type = dict()\n",
    "    # Iterate over key value pairs\n",
    "    for key, value in kwargs.items():\n",
    "        # Update a list associated with a key\n",
    "        if type(value) in dict_type:\n",
    "            dict_type[type(value)].append(key)\n",
    "        else:\n",
    "            dict_type[type(value)] = [key]\n",
    "            \n",
    "    return dict_type\n",
    "  \n",
    "res = key_types(a=1, b=2, c=(1, 2), d=3.1, e=4.2)\n",
    "print(res)"
   ]
  },
  {
   "cell_type": "markdown",
   "id": "aa68f7a2",
   "metadata": {},
   "source": [
    "#### Combining argument types\n",
    "Now you'll try to combine different argument types. Your task is to define the sort_all_types() function. It takes positional and keyword arguments of variable size, finds all the numbers and strings contained within them, and concatenates type-wise the results. Use the sort_types() function you defined before (available in the workspace). It takes a positional argument of variable size and returns a tuple containing a list of numbers and a list of strings (type sort_types? to get additional help).\n",
    "\n",
    "Keep in mind that keyword arguments of variable size essentially represent a dictionary and the sort_types() function requires that you pass only its values.\n",
    "\n",
    "Tip: To call the sort_types() function correctly, you'd have to recall another usage of the * symbol."
   ]
  },
  {
   "cell_type": "code",
   "execution_count": 3,
   "id": "df955e22",
   "metadata": {},
   "outputs": [
    {
     "name": "stdout",
     "output_type": "stream",
     "text": [
      "([1, 2.0, 5.1, 0.0, 5], ['dog', 'cat'])\n"
     ]
    }
   ],
   "source": [
    "# Define the arguments passed to the function\n",
    "def sort_all_types(*args, **kwargs):\n",
    "\n",
    "    # Find all the numbers and strings in the 1st argument\n",
    "    nums1, strings1 = sort_types(*args)\n",
    "    \n",
    "    # Find all the numbers and strings in the 2nd argument\n",
    "    nums2, strings2 = sort_types(*kwargs.values())\n",
    "    \n",
    "    return (nums1 + nums2, strings1 + strings2)\n",
    "  \n",
    "res = sort_all_types(\n",
    "\t1, 2.0, 'dog', 5.1, num1 = 0.0, num2 = 5, str1 = 'cat'\n",
    ")\n",
    "print(res)"
   ]
  },
  {
   "cell_type": "markdown",
   "id": "4ec27350",
   "metadata": {},
   "source": [
    "### What is a lambda expression?\n",
    "\n",
    "2. Definition\n",
    "    A lambda expression or a lambda function is a short function having the following syntax:\n",
    "\n",
    "    > lambda arg1, arg2,... : expression(arg1,arg2,..)\n",
    "\n",
    "It has a lambda keyword, the sequence of arguments followed by a colon, and the expression that uses these arguments. A good example is a squared number. After assigning this expression to a variable, we can use this variable with a value enclosed in round brackets. In this case, the lambda expression is evaluated for x equal 4.\n",
    "    \n",
    "     > squared = lambda x: x**2\n",
    "     \n",
    "     > squared(4)\n",
    "     \n",
    "     > 16\n",
    "     \n",
    "The same happens if we use more arguments. Let's define the expression raising x to the power of y. Using this variable with the following values implies evaluating the lambda expression for 2 and 3.\n",
    "\n",
    "     > power = lambda x,y: x**y\n",
    "     \n",
    "     > power(2,3)\n",
    "     \n",
    "     > 16\n",
    "     \n",
    "7. Missing argument\n",
    "Remember that missing an argument in the call results in TypeError.\n",
    "\n",
    "8. Comparison to normal function definition\n",
    "Let's compare lambda functions to normal function definitions, taking the example on squaring a number. Using normal definition this expression can be represented like this. As can be seen, one of the advantages of lambda expressions is writing less code for simple operations. Let's have a deeper comparison.\n",
    "\n",
    "The def keyword can be associated with the lambda keyword.\n",
    "A lambda expression can be assigned to some variable, whereas normal definition must have a name.\n",
    "Here are the arguments.\n",
    "And finally, the operation itself. Notice that in lambda expressions we don't need to specify the return keyword. The final operation already implies that the corresponding result will be returned. As can be seen, calling functions is identical in both cases, and both functions have the same output.\n",
    "\n",
    "13. Passing lambda function as an argument\n",
    "02:01 - 02:41\n",
    "So, what are other advantageous sides of lambda functions in addition to being short? Assume we have the following function. The first argument is just a number. The second one is a function itself that has one argument in its definition. The functions that represent arguments to other functions are usually called callback functions or simply callbacks. Recall squared_normal() we defined before. We can pass it as a callback argument to our function_with_callback(). Do you notice the inefficiency here?\n",
    "\n",
    "14. Passing lambda function as an argument\n",
    "To do a tiny little thing, we have to define an entire function and pass it as an argument. This can be improved.\n",
    "\n",
    "15. Passing lambda function as an argument\n",
    "We can pass a lambda expression directly in a function call. This is very handy when a callback represents something short like in this example. Such a modification simplifies the code and its readability. Notice that we don't need to give any name to the lambda expression in this case: all we need is its main components.\n",
    "\n",
    "16. Definition\n",
    "Since we don't define a name for a lambda expression, it is often called an anonymous function. Therefore, we can add \"anonymous\" descriptor in brackets in our previous definition. This property can be supported by another example. Recall the lambda expression we defined before. We assigned it to a variable.\n",
    "\n",
    "    Actually, it is not necessary. We can define a lambda expression and call it directly by passing a necessary value. This supports the idea of anonymity.\n",
    "    \n",
    "    > (lambda x: x**2) (3)\n",
    "    > 9\n",
    "    \n",
    "19. Ternary operator\n",
    "Let's discuss one more thing on lambda expressions. Consider this simple function that returns 'odd' or 'even' depending on the number passed. We can substitute the if-else block with\n",
    "\n",
    "    > def odd_or_even(num):\n",
    "        > \n",
    "        >> return 'even' if num % 2 == 0 else 'odd'\n",
    "        \n",
    "with its one-line version called ternary operator. It returns 'even' if the condition between 'if' and 'else' is fulfilled. Otherwise, it returns 'odd'. Since it's a one-line version, we can use it in a lambda expression, which can be very useful sometimes.\n",
    "\n",
    "    > odd_or_even = lambda num: 'even' if num % 2 == 0 else 'odd'\n",
    "\n",
    "22. Practical use\n",
    "Although lambda expressions are easy to use, they are not substitutes to the normal function definition and have to be used only when it's really necessary! Better to follow practical guidelines: to use lambda expressions within function bodies to handle some small tasks or use them as callback"
   ]
  },
  {
   "cell_type": "markdown",
   "id": "7e63d987",
   "metadata": {},
   "source": [
    "#### Define lambda expressions\n",
    "Let's write some lambda expressions! You will be given three tasks: each will require you to define a lambda expression taking some values as arguments and using them to calculate a specific result."
   ]
  },
  {
   "cell_type": "code",
   "execution_count": 4,
   "id": "48a24429",
   "metadata": {},
   "outputs": [
    {
     "name": "stdout",
     "output_type": "stream",
     "text": [
      "4.0\n",
      "0\n"
     ]
    }
   ],
   "source": [
    "# Take x and return x squared if x > 0 and 0, otherwise\n",
    "squared_no_negatives = lambda x: x**2 if x>0 else 0\n",
    "print(squared_no_negatives(2.0))\n",
    "print(squared_no_negatives(-1))"
   ]
  },
  {
   "cell_type": "code",
   "execution_count": 5,
   "id": "7ff0a967",
   "metadata": {},
   "outputs": [
    {
     "name": "stdout",
     "output_type": "stream",
     "text": [
      "[2, 4, 6, 8, 10]\n"
     ]
    }
   ],
   "source": [
    "# Take a list of integers nums and leave only even numbers\n",
    "get_even = lambda nums: [x for x in nums if x % 2 == 0]\n",
    "print(get_even([1, 2, 3, 4, 5, 6, 7, 8, 9, 10]))"
   ]
  },
  {
   "cell_type": "code",
   "execution_count": 6,
   "id": "af64b93f",
   "metadata": {},
   "outputs": [
    {
     "name": "stdout",
     "output_type": "stream",
     "text": [
      "['p', 'a']\n"
     ]
    }
   ],
   "source": [
    "# Take strings s1, s2 and list their common characters\n",
    "common_chars = lambda s1,s2: [x for x in set(s1) if x in set(s2)]\n",
    "print(common_chars('pasta', 'pizza'))"
   ]
  },
  {
   "cell_type": "markdown",
   "id": "a7d2b0e5",
   "metadata": {},
   "source": [
    "#### Converting functions to lambda expressions\n",
    "Convert these three normally defined functions into lambda expressions:"
   ]
  },
  {
   "cell_type": "code",
   "execution_count": 10,
   "id": "d27f0edd",
   "metadata": {},
   "outputs": [],
   "source": [
    "# Returns a bigger of the two numbers\n",
    "def func1(x, y):\n",
    "    if x >= y:\n",
    "        return x\n",
    "\n",
    "    return y\n",
    "# Returns a dictionary counting characters in a string\n",
    "def func2(s):\n",
    "    d = dict()\n",
    "    for c in set(s):\n",
    "        d[c] = s.count(c)\n",
    "\n",
    "    return d\n",
    "# Returns a squared root of a sum of squared numbers\n",
    "def func3(*nums):\n",
    "    squared_nums = [n**2 for n in nums]\n",
    "    sum_squared_nums = sum(squared_nums)\n",
    "\n",
    "    return math.sqrt(sum_squared_nums)"
   ]
  },
  {
   "cell_type": "code",
   "execution_count": 11,
   "id": "8eeef822",
   "metadata": {},
   "outputs": [
    {
     "name": "stdout",
     "output_type": "stream",
     "text": [
      "5, 5\n",
      "5, 5\n"
     ]
    }
   ],
   "source": [
    "# Convert func1() to a lambda expression\n",
    "lambda1 = lambda x,y: x if x>= y else y\n",
    "print(str(func1(5, 4)) + ', ' + str(lambda1(5, 4)))\n",
    "print(str(func1(4, 5)) + ', ' + str(lambda1(4, 5)))"
   ]
  },
  {
   "cell_type": "code",
   "execution_count": 12,
   "id": "4f4a3bff",
   "metadata": {},
   "outputs": [
    {
     "name": "stdout",
     "output_type": "stream",
     "text": [
      "{'t': 1, 'p': 1, 'a': 3, 'C': 1, 'm': 1, 'D': 1}\n",
      "{'t': 1, 'p': 1, 'a': 3, 'C': 1, 'm': 1, 'D': 1}\n"
     ]
    }
   ],
   "source": [
    "# Convert func2() to a lambda expression\n",
    "lambda2 = lambda s: {c: s.count(c) for c in set(s)}\n",
    "print(func2('DataCamp'))\n",
    "print(lambda2('DataCamp'))"
   ]
  },
  {
   "cell_type": "code",
   "execution_count": 14,
   "id": "41d206e5",
   "metadata": {},
   "outputs": [
    {
     "name": "stdout",
     "output_type": "stream",
     "text": [
      "5.0, 5.0\n",
      "7.0710678118654755, 7.0710678118654755\n"
     ]
    }
   ],
   "source": [
    "import math\n",
    "# Convert func3() to a lambda expression\n",
    "lambda3 = lambda *nums: math.sqrt(sum(n**2 for n in nums))\n",
    "print(str(func3(3, 4)) + ', ' + str(lambda3(3, 4)))\n",
    "print(str(func3(3, 4, 5)) + ', ' + str(lambda3(3, 4, 5)))"
   ]
  },
  {
   "cell_type": "markdown",
   "id": "c684da54",
   "metadata": {},
   "source": [
    "#### Using a lambda expression as an argument\n",
    "Let's pass lambda expressions as arguments to functions. You will deal with the list .sort() method. By default, it sorts numbers in increasing order. Characters and strings are sorted alphabetically. The method can be defined as .sort(key=function). Here, key defines a mapping of each item in the considered list to a sortable object (e.g. a number or a character). Thus, the items in a list are sorted the way sortable objects are.\n",
    "\n",
    "Your task is to define different ways to sort the list words using the key argument with a lambda expression."
   ]
  },
  {
   "cell_type": "code",
   "execution_count": 16,
   "id": "80b3d970",
   "metadata": {},
   "outputs": [],
   "source": [
    "words = ['car',\n",
    " 'bag',\n",
    " 'job',\n",
    " 'time',\n",
    " 'cell',\n",
    " 'call',\n",
    " 'area',\n",
    " 'item',\n",
    " 'unit',\n",
    " 'truck',\n",
    " 'phone',\n",
    " 'shape',\n",
    " 'plane',\n",
    " 'leader',\n",
    " 'height',\n",
    " 'tequila',\n",
    " 'chicken',\n",
    " 'country',\n",
    " 'service',\n",
    " 'creature',\n",
    " 'interview',\n",
    " 'advantage',\n",
    " 'government',\n",
    " 'atmosphere',\n",
    " 'transaction']"
   ]
  },
  {
   "cell_type": "code",
   "execution_count": 17,
   "id": "fcb01586",
   "metadata": {},
   "outputs": [
    {
     "name": "stdout",
     "output_type": "stream",
     "text": [
      "['car', 'bag', 'job', 'time', 'cell', 'call', 'area', 'item', 'unit', 'truck', 'phone', 'shape', 'plane', 'leader', 'height', 'tequila', 'chicken', 'country', 'service', 'creature', 'interview', 'advantage', 'government', 'atmosphere', 'transaction']\n"
     ]
    }
   ],
   "source": [
    "# Sort words by the string length\n",
    "words.sort(key=lambda s: len(s))\n",
    "print(words)"
   ]
  },
  {
   "cell_type": "code",
   "execution_count": 18,
   "id": "5ec3f819",
   "metadata": {},
   "outputs": [
    {
     "name": "stdout",
     "output_type": "stream",
     "text": [
      "['area', 'tequila', 'job', 'time', 'phone', 'shape', 'plane', 'service', 'creature', 'advantage', 'atmosphere', 'bag', 'truck', 'cell', 'call', 'item', 'chicken', 'transaction', 'car', 'leader', 'unit', 'height', 'government', 'interview', 'country']\n"
     ]
    }
   ],
   "source": [
    "# Sort words by the last character in a string\n",
    "words.sort(key=lambda s: s[-1])\n",
    "print(words)"
   ]
  },
  {
   "cell_type": "code",
   "execution_count": 19,
   "id": "4fafa6f4",
   "metadata": {},
   "outputs": [
    {
     "name": "stdout",
     "output_type": "stream",
     "text": [
      "['time', 'phone', 'item', 'unit', 'height', 'government', 'interview', 'tequila', 'job', 'shape', 'plane', 'service', 'atmosphere', 'truck', 'cell', 'leader', 'country', 'area', 'creature', 'bag', 'call', 'chicken', 'car', 'advantage', 'transaction']\n"
     ]
    }
   ],
   "source": [
    "# Sort words by the total amount of certain characters\n",
    "words.sort(key=lambda s: sum(s.count(x) for x in ['a','b','c'] ))\n",
    "print(words)"
   ]
  },
  {
   "cell_type": "markdown",
   "id": "3fbf959d",
   "metadata": {},
   "source": [
    "### What are the functions map(), filter(), reduce()?\n",
    "\n",
    "1. What are the functions map(), filter(), reduce()?\n",
    "\n",
    "    In this lesson we'll cover three functions that are very powerful, especially, when combined with lambda expressions. These are map(), filter(), and reduce().\n",
    "\n",
    "#### map()\n",
    "\n",
    "    This function can take a bunch of iterable objects, like lists. and a mapping function that defines a rule which says how items with the same index will be mapped to a new object. Note that the amount of arguments in the mapping function equals the amount of considered Iterables.\n",
    "\n",
    "5. map() with single Iterable\n",
    "\n",
    "    Let's consider the easiest mapping with a single Iterable. We want the square of each element in this list. First, we need to define our mapping function. Next, we pass it together with our list to the map() function. The output represents a map object. It is Iterable, meaning we can use it in a for loop, or within the list constructor. map is also an Iterator. It means we can retrieve consecutive elements by using the next() function.\n",
    "\n",
    "    > def squared(x):\n",
    "        >> return x**2\n",
    "\n",
    "    > nums = [1,2,3,4,5]\n",
    "    \n",
    "    > squares = map(squared,nums)\n",
    "\n",
    "    > for square in squares:\n",
    "        >print(square)\n",
    "    \n",
    "    > next(squares)\n",
    "    \n",
    "\n",
    "8. map() with lambda expressions\n",
    "\n",
    "    So, here is our map() function. Recalling our previous lesson, you surely noticed that we can use a lambda expression instead of a normally defined function. This simplifies the code a lot!\n",
    "\n",
    "    > squares = map(lambda x: x**2, nums)\n",
    "    \n",
    "    > list (squares)\n",
    "    \n",
    "9. map() with multiple Iterables\n",
    "\n",
    "    Now, let's consider multiple Iterables. Assume we have these two lists. We want to get a new list of the following form. In this case, our mapping will look like this. Here, elements with the same indices will be multiplied. Converting the map object to a list gives us the expected result.\n",
    "    \n",
    "    > nums2 = [10,20,30,40,50]\n",
    "\n",
    "    > mult = map(lambda x,y: x*y =, nums1, nums2)\n",
    "\n",
    "    > list(mult)\n",
    "    \n",
    "    >> [10,40,90,160,250]\n",
    "\n",
    "#### filter()\n",
    "    \n",
    "    The next useful function is filter(). The function takes an Iterable, and a function that maps each item in the Iterable to a boolean value. The True indicates that the corresponding item is kept for further consideration. \n",
    "\n",
    "13. filter() example\n",
    "\n",
    "    Let's have an example where we want to keep only positive numbers from the following list. First, we define our mapping function. Then, we pass it together with our list to the filter() function. Similar to map(), the output represents a filter object. This object is an Iterable. We can use it in a for loop, or within the list constructor. A filter object is also an Iterator. We can apply the next() function on it.\n",
    "\n",
    "16. filter() with lambda expressions\n",
    "\n",
    "    And just as with the map() function, the filter() function often uses a lambda expression instead of a normally defined function in its call. Therefore, don't hesitate to use lambda expressions in filter() calls.\n",
    "\n",
    "    > nums = [-3,-2,-1,0,1,2,3]\n",
    "    \n",
    "    > fobj = filter(lambda x: x>0, nums)\n",
    "    \n",
    "    > list(fobj)\n",
    "    \n",
    "    >> [1,2,3]\n",
    "\n",
    "#### reduce()\n",
    "\n",
    "    So, here's the last useful function: the reduce() function from the functools module. As filter(), it takes an Iterable and a function having two arguments. reduce() summarizes a given Iterable into a new object having the same type as the Iterable content. How does it work? Let's see with our list.\n",
    "\n",
    "18. reduce()\n",
    "\n",
    "    We start by applying the passed function on the first two items, which produces some output a, having the same type as the given items. We take this output and pass it together with the next item to our function again, which produces a new output. and so on until we get our final output d.\n",
    "\n",
    "22. reduce() example\n",
    "\n",
    "    Let's have an example. Assume we want to find the smallest number in this list. First, we need to define the function with the pair of arguments. Then, we pass it together with our list to the reduce() function. Compared to map() or filter(), it simply returns a value. What happens here? The first pair gives 4 as the minimum. Then, 4 is compared to 5. 4 is still the minimum. Then, 4 is compared to 1. 1 is the new minimum. Finally, 1 is compared to 9. 1 is the final result.\n",
    "\n",
    "    > nums = [8,1,4,2,9]\n",
    "\n",
    "23. reduce() with lambda expressions\n",
    "    \n",
    "    We can rewrite reduce() with a lambda expression, which decreases the amount of code.\n",
    "\n",
    "    > reduce(lambda x,y: x if x < y else y, nums)\n",
    "\n",
    "    >> 1"
   ]
  },
  {
   "cell_type": "markdown",
   "id": "ffa8086a",
   "metadata": {},
   "source": [
    "#### The map() function\n",
    "\n",
    "Let's do some mapping!\n",
    "\n",
    "Do you remember how zip() works? It merges given Iterables so that items with the same index fall into the same tuple. Moreover, the output is restricted by the shortest Iterable.\n",
    "\n",
    "Your task is to define your own my_zip() function with *args depicting a variable number of Iterables, e.g. lists, strings, tuples etc. Rather than a zip object, my_zip() should already return a list of tuples.\n",
    "\n",
    "Comment: args should be checked whether they contain Iterables first. But we omit it for simplicity."
   ]
  },
  {
   "cell_type": "code",
   "execution_count": 1,
   "id": "e35b3079",
   "metadata": {
    "tags": []
   },
   "outputs": [
    {
     "name": "stdout",
     "output_type": "stream",
     "text": [
      "[(1, 'a', 'D'), (2, 'b', 'a'), (3, 'c', 't')]\n"
     ]
    }
   ],
   "source": [
    "def my_zip(*args):\n",
    "    \n",
    "    # Retrieve Iterable lengths and find the minimal length\n",
    "    lengths = [len(x) for x in args]  #list(map(lambda x: len(x), args))\n",
    "    min_length = min(lengths)\n",
    "\n",
    "    tuple_list = []\n",
    "    for i in range(0, min_length):\n",
    "        # Map the elements in args with the same index i\n",
    "        mapping = map(lambda x: x[i], args)\n",
    "        # Convert the mapping and append it to tuple_list\n",
    "        tuple_list.append(tuple(mapping))\n",
    "\n",
    "    return tuple_list\n",
    "\n",
    "result = my_zip([1, 2, 3], ['a', 'b', 'c', 'd'], 'DataCamp')\n",
    "print(result)"
   ]
  },
  {
   "cell_type": "markdown",
   "id": "c434445b",
   "metadata": {},
   "source": [
    "#### The filter() function\n",
    "\n",
    "Let's do some filtering! You will be given three corresponding tasks you have to complete. Use lambda expressions! And remember: the filter() function keeps all the elements that are mapped to the True value.\n",
    "\n",
    "The variables nums, string and spells are available in your workspace."
   ]
  },
  {
   "cell_type": "code",
   "execution_count": 3,
   "id": "1a1ea527",
   "metadata": {
    "tags": []
   },
   "outputs": [
    {
     "name": "stdout",
     "output_type": "stream",
     "text": [
      "[1, 2, 4, 7, 8, 11, 13, 14, 16, 17, 19, 22, 23, 26, 28, 29, 31, 32, 34, 37, 38, 41, 43, 44, 46, 47, 49, 52, 53, 56, 58, 59, 61, 62, 64, 67, 68, 71, 73, 74, 76, 77, 79, 82, 83, 86, 88, 89, 91, 92, 94, 97, 98]\n"
     ]
    }
   ],
   "source": [
    "nums = [0, 1, 2, 3, 4, 5, 6, 7, 8, 9, 10, 11, 12, 13, 14, 15, 16, 17, 18, 19, 20, 21, 22, 23, 24, 25, 26, 27, 28, 29, 30, 31, 32, 33, 34, 35, 36, 37, 38, 39, 40, 41, 42, 43, 44, 45, 46, 47, 48, 49, 50, 51, 52, 53, 54, 55, 56, 57, 58, 59, 60, 61, 62, 63, 64, 65, 66, 67, 68, 69, 70, 71, 72, 73, 74, 75, 76, 77, 78, 79, 80, 81, 82, 83, 84, 85, 86, 87, 88, 89, 90, 91, 92, 93, 94, 95, 96, 97, 98, 99, 100]\n",
    "\n",
    "# Exclude all the numbers from nums divisible by 3 or 5\n",
    "fnums = filter(lambda x: x % 3 != 0 and x % 5 != 0, nums)\n",
    "print(list(fnums))"
   ]
  },
  {
   "cell_type": "code",
   "execution_count": 4,
   "id": "041bb680",
   "metadata": {
    "tags": []
   },
   "outputs": [
    {
     "name": "stdout",
     "output_type": "stream",
     "text": [
      "rdnry Lst Sqrs\n"
     ]
    }
   ],
   "source": [
    "string = 'Ordinary Least Squares'\n",
    "\n",
    "vowels = ['a','e','i','o','u']\n",
    "fstring = filter(lambda x: x.lower() not in vowels, string)\n",
    "print(''.join(fstring))"
   ]
  },
  {
   "cell_type": "code",
   "execution_count": 5,
   "id": "6c728a87",
   "metadata": {
    "tags": []
   },
   "outputs": [
    {
     "name": "stdout",
     "output_type": "stream",
     "text": [
      "['avada kedavra']\n"
     ]
    }
   ],
   "source": [
    "spells = ['riddikulus', 'obliviate', 'sectumsempra', 'avada kedavra', 'alohomora', 'lumos', 'expelliarmus', 'expecto patronum']\n",
    "\n",
    "# Filter all the spells in spells with more than two 'a's\n",
    "fspells = filter(lambda x: x.count('a') > 2, spells)\n",
    "print(list(fspells))"
   ]
  },
  {
   "cell_type": "markdown",
   "id": "71daf2d0",
   "metadata": {},
   "source": [
    "#### The reduce() function\n",
    "\n",
    "Now, it is time for some reduction! As before you'll be given three tasks to complete. Use lambda expressions!\n",
    "\n",
    "The necessary functions from the functools module are already imported for you."
   ]
  },
  {
   "cell_type": "code",
   "execution_count": 6,
   "id": "8b35efe9",
   "metadata": {
    "tags": []
   },
   "outputs": [
    {
     "name": "stdout",
     "output_type": "stream",
     "text": [
      "Inverted string = pmaCataD\n"
     ]
    }
   ],
   "source": [
    "from functools import reduce\n",
    "\n",
    "# Reverse a string using reduce()\n",
    "string = 'DataCamp'\n",
    "inv_string = reduce(lambda acc, char: char + acc, string)\n",
    "print('Inverted string = ' + inv_string)\n"
   ]
  },
  {
   "cell_type": "code",
   "execution_count": 7,
   "id": "8d28d559",
   "metadata": {
    "tags": []
   },
   "outputs": [
    {
     "name": "stdout",
     "output_type": "stream",
     "text": [
      "common items = {9, 4}\n"
     ]
    }
   ],
   "source": [
    "# Find common items shared among all the sets in sets\n",
    "sets = [{1, 4, 8, 9}, {2, 4, 6, 9, 10, 8}, {9, 0, 1, 2, 4}]\n",
    "common_items = reduce(lambda x,y: set(x & y), sets)\n",
    "print('common items = ' + str(common_items))"
   ]
  },
  {
   "cell_type": "code",
   "execution_count": 8,
   "id": "fe0d99f2",
   "metadata": {
    "tags": []
   },
   "outputs": [
    {
     "name": "stdout",
     "output_type": "stream",
     "text": [
      "[5, 6, 0, 1] is converted to 5601\n"
     ]
    }
   ],
   "source": [
    "# Convert a number sequence into a single number\n",
    "nums = [5, 6, 0, 1]\n",
    "num = reduce(lambda x,y: 10*x + y, nums)\n",
    "print(str(nums) + ' is converted to ' + str(num))"
   ]
  },
  {
   "cell_type": "markdown",
   "id": "52638ad9",
   "metadata": {},
   "source": [
    "### What is recursion?\n",
    "\n",
    "1. What is recursion?\n",
    "Now, let's dive into the most frequent topic in coding interviews: recursion!\n",
    "\n",
    "2. Definition\n",
    "\n",
    "    Let's start with a definition: Recursion is the process of defining a problem in terms of itself. Or, more technically: Recursion is a process in which a function calls itself as a subroutine.\n",
    "\n",
    "3. Example: Factorial $n!$\n",
    "\n",
    "    To understand recursion, we will use the example of factorial calculation. A factorial is a sequential multiplication of integers starting from the number itself down to 1. For example, let's consider n = 4. The above written expression will look like that. It's 4 multiplied by 3, then multiplied by 2 and one at the end. Therefore, the result is 24.\n",
    "\n",
    "4. Factorial - Iterative Approach\n",
    "\n",
    "    Notice that a factorial can be re-written in the opposite direction: from 1 to n. This is the most common representation for an iterative algorithm to calculate a factorial. Let's choose 4 again and go through the algorithm. We initialize our temporary variable result to 1. Then, we get into the loop. The first iteration gives us 1 again. The second iteration gives us 2. Then, we get 6. And finally, we get 24. As we can see, the iterative approach does its job. However, there is a more elegant way to solve the problem.\n",
    "\n",
    "5. Factorial - Recursive Approach\n",
    "\n",
    "    Notice that a factorial can also be written like this: the number itself multiplied by the factorial of a lesser number. We can write it as the following Python function. And this is a pure recursion: function calling itself! But what's wrong with that code? We dive into an infinite amount of calls! To change that we must have a stopping criterion or a so-called base case that will prevent infinite calling by defining a well-defined output for a given input. Let's recall that the multiplication sequence in the factorial ends with 1: no more further calls! Therefore, we can define the base case for the factorial function when n equals 1. Taking this into account, let's modify our function. Now, we can be sure that our factorial will be calculated correctly for all the numbers higher than 1.\n",
    "\n",
    "        def fact_rec(n):  \n",
    "            if n == 1:\n",
    "                return 1 \n",
    "            return n * fact_rec(n-1) \n",
    "\n",
    "6. Wrapping Up\n",
    "\n",
    "    Great! We recalled what recursion is. To wrap up, recursive functions consist of two main parts: A recursive call to a smaller problem of itself, and a base case that prevents infinite calling. Now, where can we encounter recursion in data science?\n",
    "\n",
    "7. Example - Decision Trees\n",
    "    \n",
    "    A good example of it is decision trees! Why? Let's recall that a decision tree is a model that is used to predict different outcomes depending on its logical structure. In the case of classification trees, the outcome is a category as depicted on the slide.\n",
    "\n",
    "8. Traversing a Decision Tree\n",
    "    \n",
    "    Given a new sample, how can we traverse the tree to find out its category? Right, we can use recursion! Let's create a pseudo algorithm for the given classification tree. First, let's define our function. It should return a category given a sample and a node of the tree. In the function body we check if the node has a splitting. If there is a splitting, we choose either left or right child node depending on the conditions met. And here is our recursion! Given a child node, we apply a recursive call to the same function! What should be done next? Right, a base case! We did not specify it. It should be defined if the node does not have a splitting afterward.\n",
    "    In other words, we have a leaf node that stores a category. Therefore, we can simply add the corresponding return statement to the end of our function. In this way, we defined our traversal function through recursion!\n",
    "\n",
    "        category = pred(node,x):\n",
    "            #Check if there is a split\n",
    "            if node.hasSplitting:\n",
    "                #Check which child node to take\n",
    "                if node.goToLeftChild(x):\n",
    "                    return pred(node.leftChild,x)\n",
    "                if node.goToRightChild(x):\n",
    "                    return pred(node.rightChild,x)\n",
    "            # Return the category\n",
    "            return node.category"
   ]
  },
  {
   "cell_type": "markdown",
   "id": "1312cbb9",
   "metadata": {},
   "source": [
    "#### Calculate the number of function calls\n",
    "Let's consider a classic example of recursion – the Fibonacci sequence, represented by non-negative integers starting from 0 with each element \n",
    " equals the sum of the preceding two: 0, 1, 1, 2, 3, 5, 8, 13, 21, .... You are given a function that returns a tuple with the \n",
    "-th element of the sequence and the amount of calls to fib() used:\n",
    "\n",
    "    def fib(n):\n",
    "\n",
    "      if n < 2:\n",
    "        return (n, 1)\n",
    "\n",
    "      fib1 = fib(n-1)\n",
    "      fib2 = fib(n-2)\n",
    "\n",
    "      return (fib1[0] + fib2[0], fib1[1] + fib2[1] + 1)\n",
    "  \n",
    "How many calls to fib() are needed to calculate the \n",
    " and \n",
    " elements of the sequence?"
   ]
  },
  {
   "cell_type": "code",
   "execution_count": 9,
   "id": "cd28aa5c",
   "metadata": {
    "tags": []
   },
   "outputs": [],
   "source": [
    "def fib(n):\n",
    "\n",
    "  if n < 2:\n",
    "    return (n, 1)\n",
    "\n",
    "  fib1 = fib(n-1)\n",
    "  fib2 = fib(n-2)\n",
    "\n",
    "  return (fib1[0] + fib2[0], fib1[1] + fib2[1] + 1)"
   ]
  },
  {
   "cell_type": "code",
   "execution_count": 10,
   "id": "48bf80f0",
   "metadata": {
    "tags": []
   },
   "outputs": [
    {
     "data": {
      "text/plain": [
       "(610, 1973)"
      ]
     },
     "execution_count": 10,
     "metadata": {},
     "output_type": "execute_result"
    }
   ],
   "source": [
    "fib(15)"
   ]
  },
  {
   "cell_type": "markdown",
   "id": "f1f82066",
   "metadata": {},
   "source": [
    "#### Calculate an average value\n",
    "We all know how to calculate an average value iteratively:\n",
    "\n",
    "def average(nums):\n",
    "\n",
    "    result = 0\n",
    "\n",
    "    for num in nums:\n",
    "        result += num\n",
    "\n",
    "    return result/len(nums)\n",
    "\n",
    "Could you provide a recursive solution? A formula for updating an average value given a new input might be handy:\n"
   ]
  },
  {
   "cell_type": "code",
   "execution_count": 11,
   "id": "59e1728b",
   "metadata": {
    "tags": []
   },
   "outputs": [
    {
     "name": "stdout",
     "output_type": "stream",
     "text": [
      "3.0\n"
     ]
    }
   ],
   "source": [
    "# Calculate an average value of the sequence of numbers\n",
    "def average(nums):\n",
    "  \n",
    "    # Base case\n",
    "    if len(nums) == 1:  \n",
    "        return nums[0]\n",
    "    \n",
    "    # Recursive call\n",
    "    n = len(nums)\n",
    "    return (nums[n-1] + (n-1) * average(nums[:n-1])) / n\n",
    "\n",
    "# Testing the function\n",
    "print(average([1, 2, 3, 4, 5]))"
   ]
  },
  {
   "cell_type": "markdown",
   "id": "2c3ea2d1",
   "metadata": {},
   "source": [
    "#### Approximate Pi with recursion\n",
    "\n",
    "The number pi can be computed by the following formula:\n",
    " \n",
    " pi = 4*sum((-1)**k)/(2*k+1) (od 0 do beskonacno)\n",
    "  \n",
    " \n",
    "Your task is to write a recursive function to approximate pi using the formula defined above (the approximation means that instead of infinity, the sequence considers only a certain amount of elements n).\n",
    "\n",
    "Here are examples of pi  for some of the values of n:\n",
    "n = 0 -> pi = 4\n",
    "n = 1 -> pi = 2.67\n",
    "n = 2 -> pi = 3.47\n"
   ]
  },
  {
   "cell_type": "code",
   "execution_count": 13,
   "id": "44f668a2",
   "metadata": {
    "tags": []
   },
   "outputs": [
    {
     "name": "stdout",
     "output_type": "stream",
     "text": [
      "approx = 3.143588659585789, theor = 3.141592653589793\n"
     ]
    }
   ],
   "source": [
    "import math\n",
    "\n",
    "# Write an expression to get the k-th element of the series \n",
    "get_elmnt = lambda k: ((-1)**k)/(2*k+1)\n",
    "\n",
    "def calc_pi(n):\n",
    "    curr_elmnt = get_elmnt(n)\n",
    "    \n",
    "    # Define the base case\n",
    "    if n ==0 :\n",
    "    \treturn 4.0 \n",
    "      \n",
    "    # Make the recursive call\n",
    "    return 4*curr_elmnt + calc_pi(n-1)\n",
    "  \n",
    "# Compare the approximated Pi value to the theoretical one\n",
    "print(\"approx = {}, theor = {}\".format(calc_pi(500), math.pi))"
   ]
  }
 ],
 "metadata": {
  "kernelspec": {
   "display_name": "Python 3 (ipykernel)",
   "language": "python",
   "name": "python3"
  },
  "language_info": {
   "codemirror_mode": {
    "name": "ipython",
    "version": 3
   },
   "file_extension": ".py",
   "mimetype": "text/x-python",
   "name": "python",
   "nbconvert_exporter": "python",
   "pygments_lexer": "ipython3",
   "version": "3.11.5"
  }
 },
 "nbformat": 4,
 "nbformat_minor": 5
}
