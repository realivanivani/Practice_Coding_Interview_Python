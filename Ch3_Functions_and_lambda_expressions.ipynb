{
 "cells": [
  {
   "cell_type": "markdown",
   "id": "23efda10",
   "metadata": {},
   "source": [
    "### How to pass a variable number of arguments to a function?\n",
    "\n",
    "1. How to pass a variable number of arguments to a function?\n",
    "In this chapter we'll go through common questions on Python functions. We'll start with the problem of passing a variable number of arguments to a function.\n",
    "\n",
    "2. Argument types\n",
    "Functions can have the following argument types:\n",
    "    - positional arguments\n",
    "    - and keyword arguments.\n",
    "\n",
    "6. Positional arguments\n",
    "Positional arguments are just simple arguments we pass to a function. For example, let's define a function that multiplies two numbers and returns the result. Here is the output of the call.\n",
    "\n",
    "7. *args\n",
    "Actually, we can have a variable number of positional arguments in our function definition. We can do this by using a name prefixed with an asterisk as an argument. In this case, we can call our function with as many positional arguments as we want.\n",
    "\n",
    "    Let's see what happens if our function body will simply print our input. The arguments are interpreted as a tuple!\n",
    "\n",
    "    It means we can iterate through it. Calling the function will print each single item.\n",
    "\n",
    "10. Redefining multiply()\n",
    "Let's redefine our multiply() function now. Calling it with a variable number of arguments works! Notice that the name args is just a convention: we can use any name we like.\n",
    "\n",
    "    Substituting args with nums won't change anything.\n",
    "\n",
    "12. Another use of single asterisk *\n",
    "The single asterisk also has another use. Assume we have a function with a predefined number of positional arguments. Instead of precisely defining each argument in the call,\n",
    "\n",
    "    we can first create an iterable object, for example a tuple. Then, we pass the tuple prefixed with an asterisk to the function call. It unwraps into the corresponding arguments. We can also define only part of the necessary arguments, and add some more in the function call.\n",
    "\n",
    "    We can actually do the unwrapping with a variable number of arguments as well. We define our Iterable and call the function with it prefixed with an asterisk.\n",
    "\n",
    "    def multiply(*args):\n",
    "\n",
    "        result = 1\n",
    "    \n",
    "        for arg in args:\n",
    "        \n",
    "            result = result * arg\n",
    "        \n",
    "        return result\n",
    "    \n",
    "    nums = (2,3,4,5)\n",
    "\n",
    "    miltiply(*nums)\n",
    "\n",
    "    > 120\n",
    "\n",
    "16. Keyword arguments\n",
    "Keyword arguments are positional arguments having default values. For example, let's define a function. We can call it as usual. We can also skip the arguments forcing the function to use its default values.\n",
    "\n",
    "    Or we can precisely specify the names in any sequence we want. It is also possible to use a variable amount of keyword arguments.\n",
    "\n",
    "18. **kwargs\n",
    "This is achieved by using a name prefixed with a double asterisk as an argument. If we define the following function and call it with a variable number of named arguments, the output will represent a dictionary. Passing an argument without a name will raise an error.\n",
    "\n",
    "    def func_with_kwargs(**kwargs):\n",
    "\n",
    "           print(kwargs)\n",
    "       \n",
    "    func_with_kwargs(arg1=1,arg2=2,arg3=3)\n",
    "\n",
    "    > {arg1:1, arg2:2, arg3:3}\n",
    "\n",
    "19. Redefining multiply()\n",
    "Let's redefine our multiply() function with the **kwargs argument. The difference to our previous implementation is that we iterate through the key-value pairs instead of simple values.\n",
    "\n",
    "    def multiply(**kwargs):\n",
    "    \n",
    "        result = 1\n",
    "    \n",
    "        for (key,value) in kwargs.items():\n",
    "        \n",
    "        print(key + ' = ' + str(value))\n",
    "        \n",
    "        result = result * value\n",
    "        \n",
    "    return result\n",
    "    \n",
    "\n",
    "20. Calling multiply_kwargs()\n",
    "Let's check how our function works! Here is the output we get.\n",
    "\n",
    "21. Another use of double asterisk **\n",
    "As with the example on single asterisk, double asterisk can have another meaning. Assume, we have a function with a predefined number of keyword arguments. By default it returns this.\n",
    "\n",
    "Let's define the following dictionary with the key names matching the argument names in our function. Then, let's pass it prefixed with double asterisk to the function call.\n",
    "\n",
    "We can have a dictionary defining only the part of the arguments. In this case the output looks like this. The argument that was not defined in the dictionary takes its default value.\n",
    "\n",
    "Inserting other keys in the dictionary will result in TypeError.\n",
    "\n",
    "Unwrapping works if a function has a variable number of arguments. We just define our dictionary and pass it to the function prefixed with double asterisk.\n",
    "\n",
    "\n",
    "26. Argument order\n",
    "A function can combine different types of arguments. But the order should be followed.\n",
    "\n",
    "\n",
    "First, positional arguments.\n",
    "arg1, arg2\n",
    "\n",
    "Then, their extension. *args\n",
    "\n",
    "Then, keyword arguments.kwarg1 = 10, kwarg2=20\n",
    "\n",
    "And their extension. **kwargs\n",
    "\n",
    "Of course we can skip some arguments if they are not needed. However, it is better to follow the order.\n",
    "\n",
    "    def func(arg1, arg2, *args)\n",
    "    def func(arg1, arg2, **kwargs)\n",
    "    def func(*args, **kwargs)\n",
    "\n",
    "Breaking this rule can cause unexpected behavior and errors."
   ]
  },
  {
   "cell_type": "markdown",
   "id": "0a816f30",
   "metadata": {},
   "source": [
    "#### Positional arguments of variable size\n",
    "Let's practice positional arguments of variable size. Your task is to define the function sort_types(). It takes a variable number of positional arguments and checks if each argument is a number or a string. The checked item is inserted afterwards either in the nums or strings list. Eventually, the function returns a tuple containing these lists.\n",
    "\n",
    "Use the Python's built-in isinstance() function to check if an object is of a certain type (e.g. isinstance(1, int) returns True) or one of the types (e.g. isinstance(5.65, (int, str)) returns False).\n",
    "\n",
    "Types to use in this task are int, float, and str."
   ]
  },
  {
   "cell_type": "code",
   "execution_count": 1,
   "id": "975b5bf0",
   "metadata": {},
   "outputs": [
    {
     "name": "stdout",
     "output_type": "stream",
     "text": [
      "([1.57, 4, 5, 0.89], ['car', 'hat', 'tree'])\n"
     ]
    }
   ],
   "source": [
    "# Define the function with an arbitrary number of arguments\n",
    "def sort_types(*args):\n",
    "    nums, strings = [], []    \n",
    "    for arg in args:\n",
    "        # Check if 'arg' is a number and add it to 'nums'\n",
    "        if isinstance(arg, (int, float)):\n",
    "            nums.append(arg)\n",
    "        # Check if 'arg' is a string and add it to 'strings'\n",
    "        elif isinstance(arg, str):\n",
    "            strings.append(arg)\n",
    "    \n",
    "    return (nums, strings)\n",
    "            \n",
    "print(sort_types(1.57, 'car', 'hat', 4, 5, 'tree', 0.89))"
   ]
  },
  {
   "cell_type": "markdown",
   "id": "1a530d29",
   "metadata": {},
   "source": [
    "#### Keyword arguments of variable size\n",
    "Now let's move to keyword arguments of variable size! Your task is to define the function key_types(). It should take a variable number of keyword arguments and return a new dictionary: the keys are unique object types of arguments passed to the key_types() function and the associated values represent lists. Each list should contain argument names that follow the type defined as a key (e.g. calling the key_types(kwarg1='a', kwarg2='b', kwarg3=1) results in {<class 'int'>: ['kwarg3'], <class 'str'>: ['kwarg1', 'kwarg2']}).\n",
    "\n",
    "To retrieve the type of an object, you need to use the type() function (e.g. type(1) is int)."
   ]
  },
  {
   "cell_type": "code",
   "execution_count": 2,
   "id": "ec5a3a31",
   "metadata": {},
   "outputs": [
    {
     "name": "stdout",
     "output_type": "stream",
     "text": [
      "{<class 'int'>: ['a', 'b'], <class 'tuple'>: ['c'], <class 'float'>: ['d', 'e']}\n"
     ]
    }
   ],
   "source": [
    "# Define the function with an arbitrary number of arguments\n",
    "def key_types(**kwargs):\n",
    "    dict_type = dict()\n",
    "    # Iterate over key value pairs\n",
    "    for key, value in kwargs.items():\n",
    "        # Update a list associated with a key\n",
    "        if type(value) in dict_type:\n",
    "            dict_type[type(value)].append(key)\n",
    "        else:\n",
    "            dict_type[type(value)] = [key]\n",
    "            \n",
    "    return dict_type\n",
    "  \n",
    "res = key_types(a=1, b=2, c=(1, 2), d=3.1, e=4.2)\n",
    "print(res)"
   ]
  },
  {
   "cell_type": "markdown",
   "id": "aa68f7a2",
   "metadata": {},
   "source": [
    "#### Combining argument types\n",
    "Now you'll try to combine different argument types. Your task is to define the sort_all_types() function. It takes positional and keyword arguments of variable size, finds all the numbers and strings contained within them, and concatenates type-wise the results. Use the sort_types() function you defined before (available in the workspace). It takes a positional argument of variable size and returns a tuple containing a list of numbers and a list of strings (type sort_types? to get additional help).\n",
    "\n",
    "Keep in mind that keyword arguments of variable size essentially represent a dictionary and the sort_types() function requires that you pass only its values.\n",
    "\n",
    "Tip: To call the sort_types() function correctly, you'd have to recall another usage of the * symbol."
   ]
  },
  {
   "cell_type": "code",
   "execution_count": 3,
   "id": "df955e22",
   "metadata": {},
   "outputs": [
    {
     "name": "stdout",
     "output_type": "stream",
     "text": [
      "([1, 2.0, 5.1, 0.0, 5], ['dog', 'cat'])\n"
     ]
    }
   ],
   "source": [
    "# Define the arguments passed to the function\n",
    "def sort_all_types(*args, **kwargs):\n",
    "\n",
    "    # Find all the numbers and strings in the 1st argument\n",
    "    nums1, strings1 = sort_types(*args)\n",
    "    \n",
    "    # Find all the numbers and strings in the 2nd argument\n",
    "    nums2, strings2 = sort_types(*kwargs.values())\n",
    "    \n",
    "    return (nums1 + nums2, strings1 + strings2)\n",
    "  \n",
    "res = sort_all_types(\n",
    "\t1, 2.0, 'dog', 5.1, num1 = 0.0, num2 = 5, str1 = 'cat'\n",
    ")\n",
    "print(res)"
   ]
  },
  {
   "cell_type": "markdown",
   "id": "4ec27350",
   "metadata": {},
   "source": [
    "### What is a lambda expression?\n",
    "\n",
    "2. Definition\n",
    "    A lambda expression or a lambda function is a short function having the following syntax:\n",
    "\n",
    "    > lambda arg1, arg2,... : expression(arg1,arg2,..)\n",
    "\n",
    "It has a lambda keyword, the sequence of arguments followed by a colon, and the expression that uses these arguments. A good example is a squared number. After assigning this expression to a variable, we can use this variable with a value enclosed in round brackets. In this case, the lambda expression is evaluated for x equal 4.\n",
    "    \n",
    "     > squared = lambda x: x**2\n",
    "     \n",
    "     > squared(4)\n",
    "     \n",
    "     > 16\n",
    "     \n",
    "The same happens if we use more arguments. Let's define the expression raising x to the power of y. Using this variable with the following values implies evaluating the lambda expression for 2 and 3.\n",
    "\n",
    "     > power = lambda x,y: x**y\n",
    "     \n",
    "     > power(2,3)\n",
    "     \n",
    "     > 16\n",
    "     \n",
    "7. Missing argument\n",
    "Remember that missing an argument in the call results in TypeError.\n",
    "\n",
    "8. Comparison to normal function definition\n",
    "Let's compare lambda functions to normal function definitions, taking the example on squaring a number. Using normal definition this expression can be represented like this. As can be seen, one of the advantages of lambda expressions is writing less code for simple operations. Let's have a deeper comparison.\n",
    "\n",
    "The def keyword can be associated with the lambda keyword.\n",
    "A lambda expression can be assigned to some variable, whereas normal definition must have a name.\n",
    "Here are the arguments.\n",
    "And finally, the operation itself. Notice that in lambda expressions we don't need to specify the return keyword. The final operation already implies that the corresponding result will be returned. As can be seen, calling functions is identical in both cases, and both functions have the same output.\n",
    "\n",
    "13. Passing lambda function as an argument\n",
    "02:01 - 02:41\n",
    "So, what are other advantageous sides of lambda functions in addition to being short? Assume we have the following function. The first argument is just a number. The second one is a function itself that has one argument in its definition. The functions that represent arguments to other functions are usually called callback functions or simply callbacks. Recall squared_normal() we defined before. We can pass it as a callback argument to our function_with_callback(). Do you notice the inefficiency here?\n",
    "\n",
    "14. Passing lambda function as an argument\n",
    "To do a tiny little thing, we have to define an entire function and pass it as an argument. This can be improved.\n",
    "\n",
    "15. Passing lambda function as an argument\n",
    "We can pass a lambda expression directly in a function call. This is very handy when a callback represents something short like in this example. Such a modification simplifies the code and its readability. Notice that we don't need to give any name to the lambda expression in this case: all we need is its main components.\n",
    "\n",
    "16. Definition\n",
    "Since we don't define a name for a lambda expression, it is often called an anonymous function. Therefore, we can add \"anonymous\" descriptor in brackets in our previous definition. This property can be supported by another example. Recall the lambda expression we defined before. We assigned it to a variable.\n",
    "\n",
    "    Actually, it is not necessary. We can define a lambda expression and call it directly by passing a necessary value. This supports the idea of anonymity.\n",
    "    \n",
    "    > (lambda x: x**2) (3)\n",
    "    > 9\n",
    "    \n",
    "19. Ternary operator\n",
    "Let's discuss one more thing on lambda expressions. Consider this simple function that returns 'odd' or 'even' depending on the number passed. We can substitute the if-else block with\n",
    "\n",
    "    > def odd_or_even(num):\n",
    "        > \n",
    "        >> return 'even' if num % 2 == 0 else 'odd'\n",
    "        \n",
    "with its one-line version called ternary operator. It returns 'even' if the condition between 'if' and 'else' is fulfilled. Otherwise, it returns 'odd'. Since it's a one-line version, we can use it in a lambda expression, which can be very useful sometimes.\n",
    "\n",
    "    > odd_or_even = lambda num: 'even' if num % 2 == 0 else 'odd'\n",
    "\n",
    "22. Practical use\n",
    "Although lambda expressions are easy to use, they are not substitutes to the normal function definition and have to be used only when it's really necessary! Better to follow practical guidelines: to use lambda expressions within function bodies to handle some small tasks or use them as callback."
   ]
  },
  {
   "cell_type": "markdown",
   "id": "7e63d987",
   "metadata": {},
   "source": [
    "#### Define lambda expressions\n",
    "Let's write some lambda expressions! You will be given three tasks: each will require you to define a lambda expression taking some values as arguments and using them to calculate a specific result."
   ]
  },
  {
   "cell_type": "code",
   "execution_count": 4,
   "id": "48a24429",
   "metadata": {},
   "outputs": [
    {
     "name": "stdout",
     "output_type": "stream",
     "text": [
      "4.0\n",
      "0\n"
     ]
    }
   ],
   "source": [
    "# Take x and return x squared if x > 0 and 0, otherwise\n",
    "squared_no_negatives = lambda x: x**2 if x>0 else 0\n",
    "print(squared_no_negatives(2.0))\n",
    "print(squared_no_negatives(-1))"
   ]
  },
  {
   "cell_type": "code",
   "execution_count": 5,
   "id": "7ff0a967",
   "metadata": {},
   "outputs": [
    {
     "name": "stdout",
     "output_type": "stream",
     "text": [
      "[2, 4, 6, 8, 10]\n"
     ]
    }
   ],
   "source": [
    "# Take a list of integers nums and leave only even numbers\n",
    "get_even = lambda nums: [x for x in nums if x % 2 == 0]\n",
    "print(get_even([1, 2, 3, 4, 5, 6, 7, 8, 9, 10]))"
   ]
  },
  {
   "cell_type": "code",
   "execution_count": 6,
   "id": "af64b93f",
   "metadata": {},
   "outputs": [
    {
     "name": "stdout",
     "output_type": "stream",
     "text": [
      "['p', 'a']\n"
     ]
    }
   ],
   "source": [
    "# Take strings s1, s2 and list their common characters\n",
    "common_chars = lambda s1,s2: [x for x in set(s1) if x in set(s2)]\n",
    "print(common_chars('pasta', 'pizza'))"
   ]
  },
  {
   "cell_type": "markdown",
   "id": "a7d2b0e5",
   "metadata": {},
   "source": [
    "#### Converting functions to lambda expressions\n",
    "Convert these three normally defined functions into lambda expressions:"
   ]
  },
  {
   "cell_type": "code",
   "execution_count": 10,
   "id": "d27f0edd",
   "metadata": {},
   "outputs": [],
   "source": [
    "# Returns a bigger of the two numbers\n",
    "def func1(x, y):\n",
    "    if x >= y:\n",
    "        return x\n",
    "\n",
    "    return y\n",
    "# Returns a dictionary counting characters in a string\n",
    "def func2(s):\n",
    "    d = dict()\n",
    "    for c in set(s):\n",
    "        d[c] = s.count(c)\n",
    "\n",
    "    return d\n",
    "# Returns a squared root of a sum of squared numbers\n",
    "def func3(*nums):\n",
    "    squared_nums = [n**2 for n in nums]\n",
    "    sum_squared_nums = sum(squared_nums)\n",
    "\n",
    "    return math.sqrt(sum_squared_nums)"
   ]
  },
  {
   "cell_type": "code",
   "execution_count": 11,
   "id": "8eeef822",
   "metadata": {},
   "outputs": [
    {
     "name": "stdout",
     "output_type": "stream",
     "text": [
      "5, 5\n",
      "5, 5\n"
     ]
    }
   ],
   "source": [
    "# Convert func1() to a lambda expression\n",
    "lambda1 = lambda x,y: x if x>= y else y\n",
    "print(str(func1(5, 4)) + ', ' + str(lambda1(5, 4)))\n",
    "print(str(func1(4, 5)) + ', ' + str(lambda1(4, 5)))"
   ]
  },
  {
   "cell_type": "code",
   "execution_count": 12,
   "id": "4f4a3bff",
   "metadata": {},
   "outputs": [
    {
     "name": "stdout",
     "output_type": "stream",
     "text": [
      "{'t': 1, 'p': 1, 'a': 3, 'C': 1, 'm': 1, 'D': 1}\n",
      "{'t': 1, 'p': 1, 'a': 3, 'C': 1, 'm': 1, 'D': 1}\n"
     ]
    }
   ],
   "source": [
    "# Convert func2() to a lambda expression\n",
    "lambda2 = lambda s: {c: s.count(c) for c in set(s)}\n",
    "print(func2('DataCamp'))\n",
    "print(lambda2('DataCamp'))"
   ]
  },
  {
   "cell_type": "code",
   "execution_count": 14,
   "id": "41d206e5",
   "metadata": {},
   "outputs": [
    {
     "name": "stdout",
     "output_type": "stream",
     "text": [
      "5.0, 5.0\n",
      "7.0710678118654755, 7.0710678118654755\n"
     ]
    }
   ],
   "source": [
    "import math\n",
    "# Convert func3() to a lambda expression\n",
    "lambda3 = lambda *nums: math.sqrt(sum(n**2 for n in nums))\n",
    "print(str(func3(3, 4)) + ', ' + str(lambda3(3, 4)))\n",
    "print(str(func3(3, 4, 5)) + ', ' + str(lambda3(3, 4, 5)))"
   ]
  },
  {
   "cell_type": "markdown",
   "id": "c684da54",
   "metadata": {},
   "source": [
    "#### Using a lambda expression as an argument\n",
    "Let's pass lambda expressions as arguments to functions. You will deal with the list .sort() method. By default, it sorts numbers in increasing order. Characters and strings are sorted alphabetically. The method can be defined as .sort(key=function). Here, key defines a mapping of each item in the considered list to a sortable object (e.g. a number or a character). Thus, the items in a list are sorted the way sortable objects are.\n",
    "\n",
    "Your task is to define different ways to sort the list words using the key argument with a lambda expression."
   ]
  },
  {
   "cell_type": "code",
   "execution_count": 16,
   "id": "80b3d970",
   "metadata": {},
   "outputs": [],
   "source": [
    "words = ['car',\n",
    " 'bag',\n",
    " 'job',\n",
    " 'time',\n",
    " 'cell',\n",
    " 'call',\n",
    " 'area',\n",
    " 'item',\n",
    " 'unit',\n",
    " 'truck',\n",
    " 'phone',\n",
    " 'shape',\n",
    " 'plane',\n",
    " 'leader',\n",
    " 'height',\n",
    " 'tequila',\n",
    " 'chicken',\n",
    " 'country',\n",
    " 'service',\n",
    " 'creature',\n",
    " 'interview',\n",
    " 'advantage',\n",
    " 'government',\n",
    " 'atmosphere',\n",
    " 'transaction']"
   ]
  },
  {
   "cell_type": "code",
   "execution_count": 17,
   "id": "fcb01586",
   "metadata": {},
   "outputs": [
    {
     "name": "stdout",
     "output_type": "stream",
     "text": [
      "['car', 'bag', 'job', 'time', 'cell', 'call', 'area', 'item', 'unit', 'truck', 'phone', 'shape', 'plane', 'leader', 'height', 'tequila', 'chicken', 'country', 'service', 'creature', 'interview', 'advantage', 'government', 'atmosphere', 'transaction']\n"
     ]
    }
   ],
   "source": [
    "# Sort words by the string length\n",
    "words.sort(key=lambda s: len(s))\n",
    "print(words)"
   ]
  },
  {
   "cell_type": "code",
   "execution_count": 18,
   "id": "5ec3f819",
   "metadata": {},
   "outputs": [
    {
     "name": "stdout",
     "output_type": "stream",
     "text": [
      "['area', 'tequila', 'job', 'time', 'phone', 'shape', 'plane', 'service', 'creature', 'advantage', 'atmosphere', 'bag', 'truck', 'cell', 'call', 'item', 'chicken', 'transaction', 'car', 'leader', 'unit', 'height', 'government', 'interview', 'country']\n"
     ]
    }
   ],
   "source": [
    "# Sort words by the last character in a string\n",
    "words.sort(key=lambda s: s[-1])\n",
    "print(words)"
   ]
  },
  {
   "cell_type": "code",
   "execution_count": 19,
   "id": "4fafa6f4",
   "metadata": {},
   "outputs": [
    {
     "name": "stdout",
     "output_type": "stream",
     "text": [
      "['time', 'phone', 'item', 'unit', 'height', 'government', 'interview', 'tequila', 'job', 'shape', 'plane', 'service', 'atmosphere', 'truck', 'cell', 'leader', 'country', 'area', 'creature', 'bag', 'call', 'chicken', 'car', 'advantage', 'transaction']\n"
     ]
    }
   ],
   "source": [
    "# Sort words by the total amount of certain characters\n",
    "words.sort(key=lambda s: sum(s.count(x) for x in ['a','b','c'] ))\n",
    "print(words)"
   ]
  },
  {
   "cell_type": "code",
   "execution_count": null,
   "id": "3fbf959d",
   "metadata": {},
   "outputs": [],
   "source": []
  }
 ],
 "metadata": {
  "kernelspec": {
   "display_name": "Python 3 (ipykernel)",
   "language": "python",
   "name": "python3"
  },
  "language_info": {
   "codemirror_mode": {
    "name": "ipython",
    "version": 3
   },
   "file_extension": ".py",
   "mimetype": "text/x-python",
   "name": "python",
   "nbconvert_exporter": "python",
   "pygments_lexer": "ipython3",
   "version": "3.11.5"
  }
 },
 "nbformat": 4,
 "nbformat_minor": 5
}
