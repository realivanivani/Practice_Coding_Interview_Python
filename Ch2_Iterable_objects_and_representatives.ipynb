{
 "cells": [
  {
   "cell_type": "markdown",
   "id": "027fd1a9",
   "metadata": {},
   "source": [
    "### What are iterable objects?"
   ]
  },
  {
   "cell_type": "markdown",
   "id": "4abf183f",
   "metadata": {},
   "source": [
    "2. Definition\n",
    "Simply put, iterable objects or Iterables represent any object that can be used in a for loop, meaning that it stores an element sequence. You already know a lot of Iterables: list, tuple, set, dictionary, and string.\n",
    "\n",
    "3. Iterating through a list or tuple\n",
    "Iterating through a list or tuple is very straightforward: the items are retrieved in the sequence we see them.\n",
    "\n",
    "4. Iterating through a set\n",
    "Set items, on the other hand, are retrieved disordered compared to how we inserted them.\n",
    "\n",
    "5. Iterating through a string\n",
    "Iterating through a string provides its character sequence.\n",
    "\n",
    "6. Iterating through a dictionary\n",
    "A dictionary is not that obvious. We get the keys but not the values.\n",
    "\n",
    "7. Getting key-value pairs\n",
    "To iterate through key-value pairs, we have to use dictionary .items() method.\n",
    "\n",
    "8. Getting key-value pairs\n",
    "We can unwrap each tuple right in the definition of the for loop. Here we use title and subtitle instead of item.\n",
    "\n",
    "9. Less visual objects: range\n",
    "So far, we mentioned pretty visual objects. But let's consider the range object we use a lot. It doesn't have a clear output representation like a list. It is Iterable though: it knows how to retrieve consecutive items when needed.\n",
    "\n",
    "10. Less visual objects: enumerate\n",
    "Another example is an enumerate object. To create it, we need to pass an Iterable to the enumerate() constructor. Looping over this object results in tuples which add an index to each item from the given Iterable. Since we deal with tuples, we can rewrite our loop\n",
    "\n",
    "11. Less visual objects: enumerate\n",
    "like this, to print the index and the corresponding element.\n",
    "\n",
    "12. Iterables as arguments\n",
    "Iterables can be passed to constructors such as list(), tuple(), set() and so on to create corresponding data structures. Taking, for example, the enumerate object from our previous example, we can easily convert it to a list\n",
    "\n",
    "13. Iterables as arguments\n",
    "or a set.\n",
    "\n",
    "14. How to know if we deal with an Iterable\n",
    "How to know if we deal with an Iterable? Here's the trick. We can apply the iter() function on it. If we deal with an Iterable, this function returns a special object called Iterator. This object knows how to retrieve consecutive elements from an Iterable one by one. It is because you can apply a special function on it called next() that returns the consecutive element in a given sequence.\n",
    "\n",
    "interval = range(0,5)\n",
    "interval_iter = iter(interval)    ### interval_iter is an object\n",
    "next(interval_iter)\n",
    "> 0\n",
    "\n",
    "15. StopIteration\n",
    "We can call it until a StopIteration error is raised, indicating that there are no more values to iterate through.\n",
    "\n",
    "16. Describing a for loop\n",
    "Why is an Iterator important for an object to be Iterable? Let's see how a for loop works under the hood. Here's our Iterable. First, the associated Iterator is retrieved. Then, a while loop is created that stops only when StopIteration error is raised.\n",
    "\n",
    "17. Describing a for loop\n",
    "Inside the try block we apply the next() function on the Iterator and print the result. Here's the output of the code exactly matching the one with the for loop.\n",
    "\n",
    "18. Many Iterables are Iterators\n",
    "Many Iterables are actually Iterators meaning we can apply both functions on them. An enumerate and finditer object from the previous lesson are good examples.\n",
    "\n",
    "19. iter() or next()\n",
    "We can either loop over the object\n",
    "\n",
    "20. iter() or next()\n",
    "or apply the next() function.\n",
    "\n",
    "21. Expendable Iterables\n",
    "Iterables that are Iterators normally can be traversed only once. Looping over the same object again is not possible. That behavior contrasts with pure Iterables we can't apply the next() function on.\n",
    "\n",
    "22. Traversing a DataFrame\n",
    "A DataFrame also provides many possibilities for traversing its elements. Let's consider this DataFrame describing some characters from the Star Wars.\n",
    "\n",
    "23. Direct approach\n",
    "If we put the DataFrame directly in a for loop, each item will represent a column name. Let's consider other approaches.\n",
    "\n",
    "24. .iterrows()\n",
    "One is to loop over an object returned by the .iterrows() method.\n",
    "\n",
    "25. .iterrows()\n",
    "Each item in this case is a tuple consisting of a row index name and a data Series containing all the information on that row. Of course, it can be unwrapped\n",
    "\n",
    "26. .iterrows()\n",
    "like this.\n",
    "\n",
    "27. .iteritems()\n",
    "Another approach is to loop over an object returned by .iteritems() method.\n",
    "\n",
    "28. .iteritems()\n",
    "Each item in this case is a tuple containing a column name and a data Series with all the information in that column.\n",
    "\n",
    "29. .iteritems()\n",
    "It can be also unwrapped.\n",
    "\n",
    "30. Let's practice!\n",
    "We covered pretty much information on Iterables. Let's practice"
   ]
  },
  {
   "cell_type": "markdown",
   "id": "9303d4d4",
   "metadata": {},
   "source": [
    "#### enumerate()"
   ]
  },
  {
   "cell_type": "markdown",
   "id": "dc77552d",
   "metadata": {},
   "source": [
    "Let's enumerate! Your task is, given a string, to define the function retrieve_character_indices() that creates a dictionary character_indices, where each key represents a unique character from the string and the corresponding value is a list containing the indices/positions of this letter in the string.\n",
    "\n",
    "For example, passing the string 'ukulele' to the retrieve_character_indices() function should result in the following output: {'e': [4, 6], 'k': [1], 'l': [3, 5], 'u': [0, 2]}.\n",
    "\n",
    "For this task, you are not allowed to use any string methods!"
   ]
  },
  {
   "cell_type": "code",
   "execution_count": 1,
   "id": "7a3f6f01",
   "metadata": {},
   "outputs": [
    {
     "name": "stdout",
     "output_type": "stream",
     "text": [
      "{'e': [0, 4, 8, 15, 20], 'n': [1, 11], 'u': [2], 'm': [3], 'r': [5, 16], 'a': [6, 10, 17], 't': [7, 14], ' ': [9, 12], 'I': [13], 'b': [18], 'l': [19]}\n"
     ]
    }
   ],
   "source": [
    "def retrieve_character_indices(string):\n",
    "    character_indices = dict()\n",
    "    # Define the 'for' loop\n",
    "    for index, character in enumerate(string):\n",
    "        # Update the dictionary if the key already exists\n",
    "        if character in character_indices:\n",
    "            character_indices[character].append(index)\n",
    "        # Update the dictionary if the key is absent\n",
    "        else:\n",
    "            character_indices[character] = [index]\n",
    "            \n",
    "    return character_indices\n",
    "  \n",
    "print(retrieve_character_indices('enumerate an Iterable'))"
   ]
  },
  {
   "cell_type": "markdown",
   "id": "bc90889a",
   "metadata": {},
   "source": [
    "#### Iterators"
   ]
  },
  {
   "cell_type": "markdown",
   "id": "9b8cb1e4",
   "metadata": {},
   "source": [
    "Let's check your knowledge on Iterators!\n",
    "\n",
    "As we discussed, all Iterables like list, set, or dict must have the associated Iterator. You are given the dictionary pets whose keys are Harry Potter characters and the values are the corresponding creature companions they had. Your task is to answer the set of questions regarding the Iterator created from the pets dictionary. Use the console to help you answer them!\n",
    "\n",
    "Pro tip: to break a line in the IPython Shell (not the script.py section), use Shift + Enter."
   ]
  },
  {
   "cell_type": "code",
   "execution_count": 3,
   "id": "d1aef95b",
   "metadata": {},
   "outputs": [],
   "source": [
    "pets = {'Harry': 'Hedwig the owl', 'Hermione': 'Crookshanks the cat', 'Ron': 'Scabbers the rat'}"
   ]
  },
  {
   "cell_type": "code",
   "execution_count": 4,
   "id": "658bc9c4",
   "metadata": {},
   "outputs": [
    {
     "data": {
      "text/plain": [
       "['Ron']"
      ]
     },
     "execution_count": 4,
     "metadata": {},
     "output_type": "execute_result"
    }
   ],
   "source": [
    "itnerval_iter = iter(pets)\n",
    "next(itnerval_iter)\n",
    "next(itnerval_iter)\n",
    "list(itnerval_iter)"
   ]
  },
  {
   "cell_type": "markdown",
   "id": "a9785de2",
   "metadata": {},
   "source": [
    "#### Traversing a DataFrame"
   ]
  },
  {
   "cell_type": "markdown",
   "id": "a47f6488",
   "metadata": {},
   "source": [
    "Let's iterate through a DataFrame! You are given the heroes DataFrame you're already familiar with. This time, it contains only categorical data and no missing values. You have to create the following dictionary from this dataset:\n",
    "\n",
    "Each key is a column name.\n",
    "Each value is another dictionary:\n",
    "Each key is a unique category from the column.\n",
    "Each value is the amount of heroes falling into this category.\n",
    "Tip: a Series object is also an Iterable. It traverses through the values it stores when you put it in a for loop or pass it to list(), tuple(), or set() initializers."
   ]
  },
  {
   "cell_type": "code",
   "execution_count": 20,
   "id": "783b2c1a",
   "metadata": {},
   "outputs": [],
   "source": [
    "import pandas as pd\n",
    "\n",
    "heroes = pd.read_excel('heroes.xls')"
   ]
  },
  {
   "cell_type": "code",
   "execution_count": 21,
   "id": "949d6263",
   "metadata": {},
   "outputs": [
    {
     "data": {
      "text/html": [
       "<div>\n",
       "<style scoped>\n",
       "    .dataframe tbody tr th:only-of-type {\n",
       "        vertical-align: middle;\n",
       "    }\n",
       "\n",
       "    .dataframe tbody tr th {\n",
       "        vertical-align: top;\n",
       "    }\n",
       "\n",
       "    .dataframe thead th {\n",
       "        text-align: right;\n",
       "    }\n",
       "</style>\n",
       "<table border=\"1\" class=\"dataframe\">\n",
       "  <thead>\n",
       "    <tr style=\"text-align: right;\">\n",
       "      <th></th>\n",
       "      <th>name</th>\n",
       "      <th>Gender</th>\n",
       "      <th>Eye color</th>\n",
       "      <th>Race</th>\n",
       "      <th>Hair color</th>\n",
       "      <th>Publisher</th>\n",
       "      <th>Skin color</th>\n",
       "      <th>Alignment</th>\n",
       "    </tr>\n",
       "  </thead>\n",
       "  <tbody>\n",
       "    <tr>\n",
       "      <th>0</th>\n",
       "      <td>Abe Sapien</td>\n",
       "      <td>Male</td>\n",
       "      <td>blue</td>\n",
       "      <td>Icthyo Sapien</td>\n",
       "      <td>No Hair</td>\n",
       "      <td>Dark Horse Comics</td>\n",
       "      <td>blue</td>\n",
       "      <td>good</td>\n",
       "    </tr>\n",
       "    <tr>\n",
       "      <th>1</th>\n",
       "      <td>Abin Sur</td>\n",
       "      <td>Male</td>\n",
       "      <td>blue</td>\n",
       "      <td>Ungaran</td>\n",
       "      <td>No Hair</td>\n",
       "      <td>DC Comics</td>\n",
       "      <td>red</td>\n",
       "      <td>good</td>\n",
       "    </tr>\n",
       "    <tr>\n",
       "      <th>2</th>\n",
       "      <td>Apocalypse</td>\n",
       "      <td>Male</td>\n",
       "      <td>red</td>\n",
       "      <td>Mutant</td>\n",
       "      <td>Black</td>\n",
       "      <td>Marvel Comics</td>\n",
       "      <td>grey</td>\n",
       "      <td>bad</td>\n",
       "    </tr>\n",
       "    <tr>\n",
       "      <th>3</th>\n",
       "      <td>Archangel</td>\n",
       "      <td>Male</td>\n",
       "      <td>blue</td>\n",
       "      <td>Mutant</td>\n",
       "      <td>Blond</td>\n",
       "      <td>Marvel Comics</td>\n",
       "      <td>blue</td>\n",
       "      <td>good</td>\n",
       "    </tr>\n",
       "    <tr>\n",
       "      <th>4</th>\n",
       "      <td>Ardina</td>\n",
       "      <td>Female</td>\n",
       "      <td>white</td>\n",
       "      <td>Alien</td>\n",
       "      <td>Orange</td>\n",
       "      <td>Marvel Comics</td>\n",
       "      <td>gold</td>\n",
       "      <td>good</td>\n",
       "    </tr>\n",
       "  </tbody>\n",
       "</table>\n",
       "</div>"
      ],
      "text/plain": [
       "         name  Gender Eye color           Race Hair color          Publisher  \\\n",
       "0  Abe Sapien    Male      blue  Icthyo Sapien    No Hair  Dark Horse Comics   \n",
       "1    Abin Sur    Male      blue        Ungaran    No Hair          DC Comics   \n",
       "2  Apocalypse    Male       red         Mutant      Black      Marvel Comics   \n",
       "3   Archangel    Male      blue         Mutant      Blond      Marvel Comics   \n",
       "4      Ardina  Female     white          Alien     Orange      Marvel Comics   \n",
       "\n",
       "  Skin color Alignment  \n",
       "0       blue      good  \n",
       "1        red      good  \n",
       "2       grey       bad  \n",
       "3       blue      good  \n",
       "4       gold      good  "
      ]
     },
     "execution_count": 21,
     "metadata": {},
     "output_type": "execute_result"
    }
   ],
   "source": [
    "heroes.head()"
   ]
  },
  {
   "cell_type": "code",
   "execution_count": 22,
   "id": "b37ce184",
   "metadata": {},
   "outputs": [
    {
     "name": "stdout",
     "output_type": "stream",
     "text": [
      "{'name': {'Abe Sapien': 1, 'Abin Sur': 1, 'Apocalypse': 1, 'Archangel': 1, 'Ardina': 1, 'Azazel': 1, 'Beast': 1, 'Beast Boy': 1, 'Bizarro': 1, 'Blackout': 1, 'Blink': 1, 'Brainiac': 1, 'Captain Atom': 1, 'Century': 1, 'Copycat': 1, 'Darkseid': 1, 'Domino': 1, 'Donatello': 1, 'Dr Manhattan': 1, 'Drax the Destroyer': 1, 'Etrigan': 1, 'Evilhawk': 1, 'Exodus': 1, 'Fin Fang Foom': 1, 'Gamora': 1, 'Gladiator': 1, 'Hulk': 1, 'Joker': 1, 'K-2SO': 1, 'Killer Croc': 1, 'Killer Frost': 1, 'Kilowog': 1, 'Klaw': 1, 'Leonardo': 1, 'Lobo': 1, 'Mantis': 1, 'Martian Manhunter': 1, 'Mystique': 1, 'Nebula': 1, 'Nova': 1, 'Poison Ivy': 1, 'Purple Man': 1, 'Red Hulk': 1, 'Shadow Lass': 1, 'Silver Surfer': 1, 'Sinestro': 1, 'Spectre': 1, 'Starfire': 1, 'Steppenwolf': 1, 'Swamp Thing': 1, 'Swarm': 1, 'Thanos': 1, 'Tiger Shark': 1, 'Toad': 1, 'Trigon': 1, 'Triton': 1, 'Vision': 1, 'Ymir': 1, 'Yoda': 1}, 'Gender': {'Male': 46, 'Female': 13}, 'Eye color': {'blue': 11, 'red': 16, 'white': 8, 'yellow': 5, 'green': 10, 'black': 4, 'yellow (without irises)': 1, 'purple': 1, 'grey': 1, 'gold': 1, 'brown': 1}, 'Race': {'Icthyo Sapien': 1, 'Ungaran': 1, 'Mutant': 11, 'Alien': 4, 'Neyaphem': 1, 'Human': 8, 'Bizarro': 1, 'Demon': 2, 'Android': 3, 'Human / Radiation': 3, 'New God': 2, 'Human / Cosmic': 2, 'Human / Altered': 1, 'Kakarantharaian': 1, 'Zen-Whoberian': 1, 'Strontian': 1, 'Metahuman': 1, 'Bolovaxian': 1, 'Czarnian': 1, 'Human-Kree': 1, 'Martian': 1, 'Luphomoid': 1, 'Talokite': 1, 'Korugaran': 1, 'God / Eternal': 3, 'Tamaranean': 1, 'Eternal': 1, 'Inhuman': 1, 'Frost Giant': 1, \"Yoda's species\": 1}, 'Hair color': {'No Hair': 25, 'Black': 14, 'Blond': 2, 'Orange': 1, 'Blue': 2, 'Green': 3, 'White': 4, 'Magenta': 1, 'Silver': 1, 'Red / Orange': 1, 'Red': 2, 'Purple': 1, 'Auburn': 1, 'Brown': 1}, 'Publisher': {'Dark Horse Comics': 1, 'DC Comics': 22, 'Marvel Comics': 32, 'IDW Publishing': 2, 'George Lucas': 2}, 'Skin color': {'blue': 9, 'red': 8, 'grey': 4, 'gold': 2, 'green': 17, 'white': 7, 'pink': 2, 'silver': 2, 'yellow': 2, 'purple': 3, 'gray': 1, 'blue-white': 1, 'orange': 1}, 'Alignment': {'good': 30, 'bad': 21, 'neutral': 8}}\n"
     ]
    }
   ],
   "source": [
    "column_counts = dict()\n",
    "\n",
    "# Traverse through the columns in the heroes DataFrame\n",
    "### .iteritems() is removed frmo pandas 2.0, one has to use .items()\n",
    "\n",
    "for column_name, series in heroes.items():\n",
    "    # Retrieve the values stored in series in a list form\n",
    "    values = list(series)\n",
    "    category_counts = dict()  \n",
    "    # Traverse through unique categories in values\n",
    "    for category in list(values):\n",
    "        # Count the appearance of category in values\n",
    "        category_counts[category] = values.count(category)\n",
    "    \n",
    "    column_counts[column_name] = category_counts\n",
    "    \n",
    "print(column_counts)"
   ]
  },
  {
   "cell_type": "code",
   "execution_count": null,
   "id": "9104e3b5",
   "metadata": {},
   "outputs": [],
   "source": []
  }
 ],
 "metadata": {
  "kernelspec": {
   "display_name": "Python 3 (ipykernel)",
   "language": "python",
   "name": "python3"
  },
  "language_info": {
   "codemirror_mode": {
    "name": "ipython",
    "version": 3
   },
   "file_extension": ".py",
   "mimetype": "text/x-python",
   "name": "python",
   "nbconvert_exporter": "python",
   "pygments_lexer": "ipython3",
   "version": "3.9.18"
  }
 },
 "nbformat": 4,
 "nbformat_minor": 5
}
