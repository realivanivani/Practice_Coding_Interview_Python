{
 "cells": [
  {
   "cell_type": "markdown",
   "id": "6641e725",
   "metadata": {},
   "source": [
    "### What are iterable objects?"
   ]
  },
  {
   "cell_type": "markdown",
   "id": "617de24c",
   "metadata": {},
   "source": [
    "2. Definition\n",
    "Simply put, iterable objects or Iterables represent any object that can be used in a for loop, meaning that it stores an element sequence. You already know a lot of Iterables: list, tuple, set, dictionary, and string.\n",
    "\n",
    "3. Iterating through a list or tuple\n",
    "Iterating through a list or tuple is very straightforward: the items are retrieved in the sequence we see them.\n",
    "\n",
    "4. Iterating through a set\n",
    "Set items, on the other hand, are retrieved disordered compared to how we inserted them.\n",
    "\n",
    "5. Iterating through a string\n",
    "Iterating through a string provides its character sequence.\n",
    "\n",
    "6. Iterating through a dictionary\n",
    "A dictionary is not that obvious. We get the keys but not the values.\n",
    "\n",
    "7. Getting key-value pairs\n",
    "To iterate through key-value pairs, we have to use dictionary .items() method.\n",
    "\n",
    "8. Getting key-value pairs\n",
    "We can unwrap each tuple right in the definition of the for loop. Here we use title and subtitle instead of item.\n",
    "\n",
    "9. Less visual objects: range\n",
    "So far, we mentioned pretty visual objects. But let's consider the range object we use a lot. It doesn't have a clear output representation like a list. It is Iterable though: it knows how to retrieve consecutive items when needed.\n",
    "\n",
    "10. Less visual objects: enumerate\n",
    "Another example is an enumerate object. To create it, we need to pass an Iterable to the enumerate() constructor. Looping over this object results in tuples which add an index to each item from the given Iterable. Since we deal with tuples, we can rewrite our loop\n",
    "\n",
    "11. Less visual objects: enumerate\n",
    "like this, to print the index and the corresponding element.\n",
    "\n",
    "12. Iterables as arguments\n",
    "Iterables can be passed to constructors such as list(), tuple(), set() and so on to create corresponding data structures. Taking, for example, the enumerate object from our previous example, we can easily convert it to a list\n",
    "\n",
    "13. Iterables as arguments\n",
    "or a set.\n",
    "\n",
    "14. How to know if we deal with an Iterable\n",
    "How to know if we deal with an Iterable? Here's the trick. We can apply the iter() function on it. If we deal with an Iterable, this function returns a special object called Iterator. This object knows how to retrieve consecutive elements from an Iterable one by one. It is because you can apply a special function on it called next() that returns the consecutive element in a given sequence.\n",
    "\n",
    "interval = range(0,5)\n",
    "interval_iter = iter(interval)    ### interval_iter is an object\n",
    "next(interval_iter)\n",
    "> 0\n",
    "\n",
    "15. StopIteration\n",
    "We can call it until a StopIteration error is raised, indicating that there are no more values to iterate through.\n",
    "\n",
    "16. Describing a for loop\n",
    "Why is an Iterator important for an object to be Iterable? Let's see how a for loop works under the hood. Here's our Iterable. First, the associated Iterator is retrieved. Then, a while loop is created that stops only when StopIteration error is raised.\n",
    "\n",
    "17. Describing a for loop\n",
    "Inside the try block we apply the next() function on the Iterator and print the result. Here's the output of the code exactly matching the one with the for loop.\n",
    "\n",
    "18. Many Iterables are Iterators\n",
    "Many Iterables are actually Iterators meaning we can apply both functions on them. An enumerate and finditer object from the previous lesson are good examples.\n",
    "\n",
    "19. iter() or next()\n",
    "We can either loop over the object\n",
    "\n",
    "20. iter() or next()\n",
    "or apply the next() function.\n",
    "\n",
    "21. Expendable Iterables\n",
    "Iterables that are Iterators normally can be traversed only once. Looping over the same object again is not possible. That behavior contrasts with pure Iterables we can't apply the next() function on.\n",
    "\n",
    "22. Traversing a DataFrame\n",
    "A DataFrame also provides many possibilities for traversing its elements. Let's consider this DataFrame describing some characters from the Star Wars.\n",
    "\n",
    "23. Direct approach\n",
    "If we put the DataFrame directly in a for loop, each item will represent a column name. Let's consider other approaches.\n",
    "\n",
    "24. .iterrows()\n",
    "One is to loop over an object returned by the .iterrows() method.\n",
    "\n",
    "25. .iterrows()\n",
    "Each item in this case is a tuple consisting of a row index name and a data Series containing all the information on that row. Of course, it can be unwrapped\n",
    "\n",
    "26. .iterrows()\n",
    "like this.\n",
    "\n",
    "27. .iteritems()\n",
    "Another approach is to loop over an object returned by .iteritems() method.\n",
    "\n",
    "28. .iteritems()\n",
    "Each item in this case is a tuple containing a column name and a data Series with all the information in that column.\n",
    "\n",
    "29. .iteritems()\n",
    "It can be also unwrapped.\n",
    "\n",
    "30. Let's practice!\n",
    "We covered pretty much information on Iterables. Let's practice"
   ]
  },
  {
   "cell_type": "markdown",
   "id": "91215256",
   "metadata": {},
   "source": [
    "#### enumerate()"
   ]
  },
  {
   "cell_type": "markdown",
   "id": "57a26c9a",
   "metadata": {},
   "source": [
    "Let's enumerate! Your task is, given a string, to define the function retrieve_character_indices() that creates a dictionary character_indices, where each key represents a unique character from the string and the corresponding value is a list containing the indices/positions of this letter in the string.\n",
    "\n",
    "For example, passing the string 'ukulele' to the retrieve_character_indices() function should result in the following output: {'e': [4, 6], 'k': [1], 'l': [3, 5], 'u': [0, 2]}.\n",
    "\n",
    "For this task, you are not allowed to use any string methods!"
   ]
  },
  {
   "cell_type": "code",
   "execution_count": 1,
   "id": "77638ec7",
   "metadata": {},
   "outputs": [
    {
     "name": "stdout",
     "output_type": "stream",
     "text": [
      "{'e': [0, 4, 8, 15, 20], 'n': [1, 11], 'u': [2], 'm': [3], 'r': [5, 16], 'a': [6, 10, 17], 't': [7, 14], ' ': [9, 12], 'I': [13], 'b': [18], 'l': [19]}\n"
     ]
    }
   ],
   "source": [
    "def retrieve_character_indices(string):\n",
    "    character_indices = dict()\n",
    "    # Define the 'for' loop\n",
    "    for index, character in enumerate(string):\n",
    "        # Update the dictionary if the key already exists\n",
    "        if character in character_indices:\n",
    "            character_indices[character].append(index)\n",
    "        # Update the dictionary if the key is absent\n",
    "        else:\n",
    "            character_indices[character] = [index]\n",
    "            \n",
    "    return character_indices\n",
    "  \n",
    "print(retrieve_character_indices('enumerate an Iterable'))"
   ]
  },
  {
   "cell_type": "markdown",
   "id": "243449cc",
   "metadata": {},
   "source": [
    "#### Iterators"
   ]
  },
  {
   "cell_type": "markdown",
   "id": "8a06ad50",
   "metadata": {},
   "source": [
    "Let's check your knowledge on Iterators!\n",
    "\n",
    "As we discussed, all Iterables like list, set, or dict must have the associated Iterator. You are given the dictionary pets whose keys are Harry Potter characters and the values are the corresponding creature companions they had. Your task is to answer the set of questions regarding the Iterator created from the pets dictionary. Use the console to help you answer them!\n",
    "\n",
    "Pro tip: to break a line in the IPython Shell (not the script.py section), use Shift + Enter."
   ]
  },
  {
   "cell_type": "code",
   "execution_count": 3,
   "id": "488ce68c",
   "metadata": {},
   "outputs": [],
   "source": [
    "pets = {'Harry': 'Hedwig the owl', 'Hermione': 'Crookshanks the cat', 'Ron': 'Scabbers the rat'}"
   ]
  },
  {
   "cell_type": "code",
   "execution_count": 4,
   "id": "35e8695a",
   "metadata": {},
   "outputs": [
    {
     "data": {
      "text/plain": [
       "['Ron']"
      ]
     },
     "execution_count": 4,
     "metadata": {},
     "output_type": "execute_result"
    }
   ],
   "source": [
    "itnerval_iter = iter(pets)\n",
    "next(itnerval_iter)\n",
    "next(itnerval_iter)\n",
    "list(itnerval_iter)"
   ]
  },
  {
   "cell_type": "markdown",
   "id": "c980c07c",
   "metadata": {},
   "source": [
    "#### Traversing a DataFrame"
   ]
  },
  {
   "cell_type": "markdown",
   "id": "f3d208d7",
   "metadata": {},
   "source": [
    "Let's iterate through a DataFrame! You are given the heroes DataFrame you're already familiar with. This time, it contains only categorical data and no missing values. You have to create the following dictionary from this dataset:\n",
    "\n",
    "Each key is a column name.\n",
    "Each value is another dictionary:\n",
    "Each key is a unique category from the column.\n",
    "Each value is the amount of heroes falling into this category.\n",
    "Tip: a Series object is also an Iterable. It traverses through the values it stores when you put it in a for loop or pass it to list(), tuple(), or set() initializers."
   ]
  },
  {
   "cell_type": "code",
   "execution_count": 20,
   "id": "be38c868",
   "metadata": {},
   "outputs": [],
   "source": [
    "import pandas as pd\n",
    "\n",
    "heroes = pd.read_excel('heroes.xls')"
   ]
  },
  {
   "cell_type": "code",
   "execution_count": 21,
   "id": "c45aa7b4",
   "metadata": {},
   "outputs": [
    {
     "data": {
      "text/html": [
       "<div>\n",
       "<style scoped>\n",
       "    .dataframe tbody tr th:only-of-type {\n",
       "        vertical-align: middle;\n",
       "    }\n",
       "\n",
       "    .dataframe tbody tr th {\n",
       "        vertical-align: top;\n",
       "    }\n",
       "\n",
       "    .dataframe thead th {\n",
       "        text-align: right;\n",
       "    }\n",
       "</style>\n",
       "<table border=\"1\" class=\"dataframe\">\n",
       "  <thead>\n",
       "    <tr style=\"text-align: right;\">\n",
       "      <th></th>\n",
       "      <th>name</th>\n",
       "      <th>Gender</th>\n",
       "      <th>Eye color</th>\n",
       "      <th>Race</th>\n",
       "      <th>Hair color</th>\n",
       "      <th>Publisher</th>\n",
       "      <th>Skin color</th>\n",
       "      <th>Alignment</th>\n",
       "    </tr>\n",
       "  </thead>\n",
       "  <tbody>\n",
       "    <tr>\n",
       "      <th>0</th>\n",
       "      <td>Abe Sapien</td>\n",
       "      <td>Male</td>\n",
       "      <td>blue</td>\n",
       "      <td>Icthyo Sapien</td>\n",
       "      <td>No Hair</td>\n",
       "      <td>Dark Horse Comics</td>\n",
       "      <td>blue</td>\n",
       "      <td>good</td>\n",
       "    </tr>\n",
       "    <tr>\n",
       "      <th>1</th>\n",
       "      <td>Abin Sur</td>\n",
       "      <td>Male</td>\n",
       "      <td>blue</td>\n",
       "      <td>Ungaran</td>\n",
       "      <td>No Hair</td>\n",
       "      <td>DC Comics</td>\n",
       "      <td>red</td>\n",
       "      <td>good</td>\n",
       "    </tr>\n",
       "    <tr>\n",
       "      <th>2</th>\n",
       "      <td>Apocalypse</td>\n",
       "      <td>Male</td>\n",
       "      <td>red</td>\n",
       "      <td>Mutant</td>\n",
       "      <td>Black</td>\n",
       "      <td>Marvel Comics</td>\n",
       "      <td>grey</td>\n",
       "      <td>bad</td>\n",
       "    </tr>\n",
       "    <tr>\n",
       "      <th>3</th>\n",
       "      <td>Archangel</td>\n",
       "      <td>Male</td>\n",
       "      <td>blue</td>\n",
       "      <td>Mutant</td>\n",
       "      <td>Blond</td>\n",
       "      <td>Marvel Comics</td>\n",
       "      <td>blue</td>\n",
       "      <td>good</td>\n",
       "    </tr>\n",
       "    <tr>\n",
       "      <th>4</th>\n",
       "      <td>Ardina</td>\n",
       "      <td>Female</td>\n",
       "      <td>white</td>\n",
       "      <td>Alien</td>\n",
       "      <td>Orange</td>\n",
       "      <td>Marvel Comics</td>\n",
       "      <td>gold</td>\n",
       "      <td>good</td>\n",
       "    </tr>\n",
       "  </tbody>\n",
       "</table>\n",
       "</div>"
      ],
      "text/plain": [
       "         name  Gender Eye color           Race Hair color          Publisher  \\\n",
       "0  Abe Sapien    Male      blue  Icthyo Sapien    No Hair  Dark Horse Comics   \n",
       "1    Abin Sur    Male      blue        Ungaran    No Hair          DC Comics   \n",
       "2  Apocalypse    Male       red         Mutant      Black      Marvel Comics   \n",
       "3   Archangel    Male      blue         Mutant      Blond      Marvel Comics   \n",
       "4      Ardina  Female     white          Alien     Orange      Marvel Comics   \n",
       "\n",
       "  Skin color Alignment  \n",
       "0       blue      good  \n",
       "1        red      good  \n",
       "2       grey       bad  \n",
       "3       blue      good  \n",
       "4       gold      good  "
      ]
     },
     "execution_count": 21,
     "metadata": {},
     "output_type": "execute_result"
    }
   ],
   "source": [
    "heroes.head()"
   ]
  },
  {
   "cell_type": "code",
   "execution_count": 22,
   "id": "b4e54279",
   "metadata": {},
   "outputs": [
    {
     "name": "stdout",
     "output_type": "stream",
     "text": [
      "{'name': {'Abe Sapien': 1, 'Abin Sur': 1, 'Apocalypse': 1, 'Archangel': 1, 'Ardina': 1, 'Azazel': 1, 'Beast': 1, 'Beast Boy': 1, 'Bizarro': 1, 'Blackout': 1, 'Blink': 1, 'Brainiac': 1, 'Captain Atom': 1, 'Century': 1, 'Copycat': 1, 'Darkseid': 1, 'Domino': 1, 'Donatello': 1, 'Dr Manhattan': 1, 'Drax the Destroyer': 1, 'Etrigan': 1, 'Evilhawk': 1, 'Exodus': 1, 'Fin Fang Foom': 1, 'Gamora': 1, 'Gladiator': 1, 'Hulk': 1, 'Joker': 1, 'K-2SO': 1, 'Killer Croc': 1, 'Killer Frost': 1, 'Kilowog': 1, 'Klaw': 1, 'Leonardo': 1, 'Lobo': 1, 'Mantis': 1, 'Martian Manhunter': 1, 'Mystique': 1, 'Nebula': 1, 'Nova': 1, 'Poison Ivy': 1, 'Purple Man': 1, 'Red Hulk': 1, 'Shadow Lass': 1, 'Silver Surfer': 1, 'Sinestro': 1, 'Spectre': 1, 'Starfire': 1, 'Steppenwolf': 1, 'Swamp Thing': 1, 'Swarm': 1, 'Thanos': 1, 'Tiger Shark': 1, 'Toad': 1, 'Trigon': 1, 'Triton': 1, 'Vision': 1, 'Ymir': 1, 'Yoda': 1}, 'Gender': {'Male': 46, 'Female': 13}, 'Eye color': {'blue': 11, 'red': 16, 'white': 8, 'yellow': 5, 'green': 10, 'black': 4, 'yellow (without irises)': 1, 'purple': 1, 'grey': 1, 'gold': 1, 'brown': 1}, 'Race': {'Icthyo Sapien': 1, 'Ungaran': 1, 'Mutant': 11, 'Alien': 4, 'Neyaphem': 1, 'Human': 8, 'Bizarro': 1, 'Demon': 2, 'Android': 3, 'Human / Radiation': 3, 'New God': 2, 'Human / Cosmic': 2, 'Human / Altered': 1, 'Kakarantharaian': 1, 'Zen-Whoberian': 1, 'Strontian': 1, 'Metahuman': 1, 'Bolovaxian': 1, 'Czarnian': 1, 'Human-Kree': 1, 'Martian': 1, 'Luphomoid': 1, 'Talokite': 1, 'Korugaran': 1, 'God / Eternal': 3, 'Tamaranean': 1, 'Eternal': 1, 'Inhuman': 1, 'Frost Giant': 1, \"Yoda's species\": 1}, 'Hair color': {'No Hair': 25, 'Black': 14, 'Blond': 2, 'Orange': 1, 'Blue': 2, 'Green': 3, 'White': 4, 'Magenta': 1, 'Silver': 1, 'Red / Orange': 1, 'Red': 2, 'Purple': 1, 'Auburn': 1, 'Brown': 1}, 'Publisher': {'Dark Horse Comics': 1, 'DC Comics': 22, 'Marvel Comics': 32, 'IDW Publishing': 2, 'George Lucas': 2}, 'Skin color': {'blue': 9, 'red': 8, 'grey': 4, 'gold': 2, 'green': 17, 'white': 7, 'pink': 2, 'silver': 2, 'yellow': 2, 'purple': 3, 'gray': 1, 'blue-white': 1, 'orange': 1}, 'Alignment': {'good': 30, 'bad': 21, 'neutral': 8}}\n"
     ]
    }
   ],
   "source": [
    "column_counts = dict()\n",
    "\n",
    "# Traverse through the columns in the heroes DataFrame\n",
    "### .iteritems() is removed frmo pandas 2.0, one has to use .items()\n",
    "\n",
    "for column_name, series in heroes.items():\n",
    "    # Retrieve the values stored in series in a list form\n",
    "    values = list(series)\n",
    "    category_counts = dict()  \n",
    "    # Traverse through unique categories in values\n",
    "    for category in list(values):\n",
    "        # Count the appearance of category in values\n",
    "        category_counts[category] = values.count(category)\n",
    "    \n",
    "    column_counts[column_name] = category_counts\n",
    "    \n",
    "print(column_counts)"
   ]
  },
  {
   "cell_type": "markdown",
   "id": "68fc6942",
   "metadata": {},
   "source": [
    "### List comprehension"
   ]
  },
  {
   "cell_type": "markdown",
   "id": "71c77ade",
   "metadata": {},
   "source": [
    "1. What is a list comprehension?\n",
    "Our next question is: what is a list comprehension? Since it's a very specific feature of Python, this question most likely can be asked on an interview.\n",
    "\n",
    "2. List comprehension\n",
    "List comprehension is a special way to define a list. For example, let's consider a list like this. What are the ways to create it besides specifying its items directly? One approach is to create a for loop and fill the empty list with new items. But there is a more elegant way.\n",
    "\n",
    "3. List comprehension\n",
    "and it is a list comprehension. What we can do is to iterate through a range object within square brackets while specifying an output element for each input.At the end we assign our expression to a variable. Let's check the output. It looks exactly as we want.\n",
    "\n",
    "num_dbl = [num * 2 for num in range (1,6)]\n",
    "\n",
    "\n",
    "7. Summing up\n",
    "To sum up, a list comprehension is defined by an iterable object and an operation on each element from this object. But there is even more. List comprehensions can have conditions.\n",
    "\n",
    "10. List comprehension with condition\n",
    "Let's define another way to create our list. We can observe that the list we want to get contains only even numbers up to 10. So, we can achieve our goal by taking all the numbers from 1 to 10 and considering only those that are divisible by 2. For this case, list comprehension with condition can be used.\n",
    "\n",
    "12. Adding a condition\n",
    "Let's consider this list comprehension. So far, the resulting list contains the numbers from 1 to 10. But you can make a small modification by adding a condition. In this case we check each element to be divisible by 2 and if so, we include it in the list we create. If we print our newly created list, we get what we want again.\n",
    "\n",
    "num_new = [num for num in range(1,11) if num % 2 == 0]\n",
    "\n",
    "\n",
    "14. More examples\n",
    "Let's go through one more example. We are given a text. Let's create a list that contains the length of each lowercased word. The output should look like this.\n",
    "\n",
    "text = \"smaller UPPERWORD NasdfNK and is UPPER\"\n",
    "\n",
    "15. More examples\n",
    "To get it, first we have to iterate through each word in the text. Then, we add the condition to check if we have a lowercased word. Finally, we specify what we want to get as an output element. Let's inspect our result: we got what we expected!\n",
    "\n",
    "output = [len(word) for word in text.split() if word.islower()]\n",
    "\n",
    "18. Multiple loops\n",
    "List comprehensions can be built with multiple loops. Let's consider these two lists. How could we create a list containing all the possible pairs?\n",
    "\n",
    "a = [1,2,3]\n",
    "b = ['a', 'b', 'c']\n",
    "\n",
    "19. Iterating through multiple loops\n",
    "We start by iterating through the numbers.But then we add the iteration through the letters. Finally, we insert the output expression. The result is the list of tuples each representing a pair.\n",
    "\n",
    "pairs = [(i,j) for i in a for j in b]\n",
    "\n",
    "22. Deeper look\n",
    "Although this representation seems quite complicated, when we unwrap it as an ordinary code, it will look this way.\n",
    "Notice that the internal loop is the one on the right side in our list comprehension.And the external loop is on the left side in our list comprehension.\n",
    "\n",
    "25. Adding square brackets\n",
    "Let's change a little bit the list comprehension we defined.Let's enclose our output expression and the left-most loop in square brackets. Such a small change results in a list of lists! What happens?\n",
    "Let's rewrite our list comprehension as an ordinary code. It will look something like this.\n",
    "\n",
    "pairs = [[(i,j) for i in a] for j in b]\n",
    "\n",
    "28. Adding square brackets\n",
    "Notice that now the internal loop corresponds to the one on the left side in our list comprehension. And the external loop corresponds to the one on the right side.\n",
    "\n",
    "30. Swap numbers and letters\n",
    "What happens if we swap numbers and letters? Here it is. We get completely different output!\n",
    "\n",
    "32. Difference between list comprehensions\n",
    "To sum up, we have to take care how we define nested list comprehensions. The output can be substantially different!\n",
    "\n",
    "33. Let's practice!\n",
    "Now it's time to exercise and build some list comprehensions yourself!"
   ]
  },
  {
   "cell_type": "markdown",
   "id": "8bdb242d",
   "metadata": {},
   "source": [
    "#### Basic list comprehensions"
   ]
  },
  {
   "cell_type": "markdown",
   "id": "82144ec5",
   "metadata": {},
   "source": [
    "For this task, you will have to create a bag-of-words representation of the spam email stored in the spam variable (you can explore the content using the shell). Recall that bag-of-words is simply a counter of unique words in a given text. This representation can be further used for text classification, e.g. for spam detection (given enough training examples).\n",
    "\n",
    "We created a small auxiliary function create_word_list() to help you split a string into words, e.g. applying it to 'To infinity... and beyond!' will return ['To', 'infinity', 'and', 'beyond']."
   ]
  },
  {
   "cell_type": "code",
   "execution_count": 23,
   "id": "24e7d07f",
   "metadata": {},
   "outputs": [],
   "source": [
    "spam = \"\"\"Dear User,\n",
    "\n",
    "Our Administration Team needs to inform you that you are reaching the storage limit of your Mailbox account.\n",
    "You have to verify your account within the next 24 hours.\n",
    "Otherwise, it will not be possible to use the service.\n",
    "Please, click on the link below to verify your account and continue using our service.\n",
    "\n",
    "Your Administration Team.\"\"\""
   ]
  },
  {
   "cell_type": "code",
   "execution_count": 25,
   "id": "b0f88b4f",
   "metadata": {},
   "outputs": [
    {
     "name": "stdout",
     "output_type": "stream",
     "text": [
      "to: 4\n",
      "our: 2\n",
      "verify: 2\n",
      "account: 2\n",
      "your: 4\n",
      "you: 3\n",
      "the: 4\n",
      "service.: 2\n",
      "administration: 2\n"
     ]
    }
   ],
   "source": [
    "# Convert the text to lower case and create a word list\n",
    "words = spam.lower().split()\n",
    "\n",
    "# Create a set storing only unique words\n",
    "word_set = set(words)\n",
    "\n",
    "# Create a dictionary that counts each word in the list\n",
    "tuples = [(word, words.count(word)) for word in word_set]\n",
    "word_counter = dict(tuples)\n",
    "\n",
    "# Printing words that appear more than once\n",
    "for (key, value) in word_counter.items():\n",
    "    if value > 1:\n",
    "        print(\"{}: {}\".format(key, value))"
   ]
  },
  {
   "cell_type": "markdown",
   "id": "52f6a891",
   "metadata": {},
   "source": [
    "#### Prime number sequence"
   ]
  },
  {
   "cell_type": "markdown",
   "id": "f746967b",
   "metadata": {},
   "source": [
    "A prime number is a natural number that is divisible only by 1 or itself (e.g. 3, 7, 11 etc.). However, 1 is not a prime number.\n",
    "\n",
    "Your task is, given a list of candidate numbers cands, to filter only prime numbers in a new list primes.\n",
    "\n",
    "But first, you need to create a function is_prime() that returns True if the input number \n",
    " is prime or False, otherwise. To do so, it's sufficient to test if a number is not divisible by any integer number from 2 to \n",
    ".\n",
    "\n",
    "Tip: you might need to use the % operator that calculates a remainder from a division (e.g. 8 % 3 is 2).\n",
    "\n",
    "The math module is already imported."
   ]
  },
  {
   "cell_type": "code",
   "execution_count": 26,
   "id": "0beface1",
   "metadata": {},
   "outputs": [],
   "source": [
    "cands = [1, 5, 9, 13, 17, 21, 25, 29, 33, 37, 41, 45, 49]"
   ]
  },
  {
   "cell_type": "code",
   "execution_count": 28,
   "id": "e7fff7cf",
   "metadata": {},
   "outputs": [
    {
     "name": "stdout",
     "output_type": "stream",
     "text": [
      "primes = [5, 13, 17, 29, 37, 41]\n"
     ]
    }
   ],
   "source": [
    "import math\n",
    "\n",
    "def is_prime(n):\n",
    "    # Define the initial check\n",
    "    if n < 2:\n",
    "       return False\n",
    "    # Define the loop checking if a number is not prime\n",
    "    for i in range(2, int(math.sqrt(n)) + 1):\n",
    "        if n % i == 0:\n",
    "            return False\n",
    "    return True\n",
    "    \n",
    "# Filter prime numbers into the new list\n",
    "primes = [num for num in cands if is_prime(num)]\n",
    "print(\"primes = \" + str(primes))"
   ]
  },
  {
   "cell_type": "markdown",
   "id": "a0c2544c",
   "metadata": {},
   "source": [
    "#### Coprime number sequence"
   ]
  },
  {
   "cell_type": "markdown",
   "id": "35af17c6",
   "metadata": {},
   "source": [
    "Two numbers \n",
    " and \n",
    " are coprime if their Greatest Common Divisor (GCD) is 1. GCD is the largest positive number that divides two given numbers \n",
    " and \n",
    ". For example, the numbers 7 and 9 are coprime because their GCD is 1.\n",
    "\n",
    "Given two lists list1 and list2, your task is to create a new list coprimes that contains all the coprime pairs from list1 and list2.\n",
    "\n",
    "But first, you need to write a function for the GCD using the following algorithm:\n",
    "\n",
    "check if \n",
    "if true, return \n",
    " as the GCD between \n",
    " and \n",
    "if false, go to step 2\n",
    "make a substitution \n",
    " and \n",
    "go back to step 1"
   ]
  },
  {
   "cell_type": "code",
   "execution_count": 29,
   "id": "3e89334e",
   "metadata": {},
   "outputs": [],
   "source": [
    "list1 = [5, 10, 15, 20, 25, 30, 35, 40, 45, 50, 55, 60, 65, 70]\n",
    "list2 = [7, 14, 21, 28, 35, 42, 49, 56, 63, 70, 77, 84, 91, 98]"
   ]
  },
  {
   "cell_type": "code",
   "execution_count": 30,
   "id": "e5789ac2",
   "metadata": {},
   "outputs": [
    {
     "name": "stdout",
     "output_type": "stream",
     "text": [
      "[(5, 7), (5, 14), (5, 21), (5, 28), (5, 42), (5, 49), (5, 56), (5, 63), (5, 77), (5, 84), (5, 91), (5, 98), (10, 7), (10, 21), (10, 49), (10, 63), (10, 77), (10, 91), (15, 7), (15, 14), (15, 28), (15, 49), (15, 56), (15, 77), (15, 91), (15, 98), (20, 7), (20, 21), (20, 49), (20, 63), (20, 77), (20, 91), (25, 7), (25, 14), (25, 21), (25, 28), (25, 42), (25, 49), (25, 56), (25, 63), (25, 77), (25, 84), (25, 91), (25, 98), (30, 7), (30, 49), (30, 77), (30, 91), (40, 7), (40, 21), (40, 49), (40, 63), (40, 77), (40, 91), (45, 7), (45, 14), (45, 28), (45, 49), (45, 56), (45, 77), (45, 91), (45, 98), (50, 7), (50, 21), (50, 49), (50, 63), (50, 77), (50, 91), (55, 7), (55, 14), (55, 21), (55, 28), (55, 42), (55, 49), (55, 56), (55, 63), (55, 84), (55, 91), (55, 98), (60, 7), (60, 49), (60, 77), (60, 91), (65, 7), (65, 14), (65, 21), (65, 28), (65, 42), (65, 49), (65, 56), (65, 63), (65, 77), (65, 84), (65, 98)]\n"
     ]
    }
   ],
   "source": [
    "def gcd(a, b):\n",
    "    # Define the while loop as described\n",
    "    while b != 0:\n",
    "        temp_a = a\n",
    "        a = b\n",
    "        b = temp_a % b   \n",
    "    # Complete the return statement\n",
    "    return a\n",
    "    \n",
    "# Create a list of tuples defining pairs of coprime numbers\n",
    "coprimes = [(i,j) for i in list1 \n",
    "                 for j in list2 if gcd(i,j) == 1]\n",
    "print(coprimes)"
   ]
  },
  {
   "cell_type": "markdown",
   "id": "4213e9bd",
   "metadata": {},
   "source": [
    "### Zip object"
   ]
  },
  {
   "cell_type": "markdown",
   "id": "9ddda322",
   "metadata": {},
   "source": [
    "1. What is a zip object?\n",
    "In this lesson we'll cover the zip object and the functionality it provides. So, what does it do?\n",
    "\n",
    "2. Definition\n",
    "zip is an object that can combine several iterable objects into one iterable object. When we traverse the resulting zip object, we can see that each item represents a tuple containing elements from original iterable objects with the same indices.\n",
    "\n",
    "5. Example\n",
    "Let's look at an example. We have three Iterables: a string, a list, and a dictionary. Let's combine these objects using zip() into one zip object.\n",
    "\n",
    "result = zip (title, villains, turtles)\n",
    "\n",
    "6. Traversing through a zip object\n",
    "Since by definition a zip object is an Iterable, we can use it in a for loop and check how each item looks like. So, each item is a tuple containing elements from the original Iterables sharing the same index. Notice that in case of a dictionary passed to a zip() constructor, the keys are kept and the values are ignored.\n",
    "\n",
    "for item in result:\n",
    "    print(item)\n",
    "    \n",
    "    \n",
    "7. Returning a list of tuples\n",
    "To wrap these tuples in a list, we can pass the zip object to the list() constructor.\n",
    "\n",
    "8. zip object as Iterator\n",
    "A zip object is also an Iterator. That means we can apply the next() function on it to traverse over the constituent tuples. Of course, traversing is possible until a StopIteration error is raised.\n",
    "\n",
    "next(result)\n",
    "\n",
    "9. zip object is expendable\n",
    "It's important to mention that traversing a zip object can be done only once. It means that we can use it in a for loop only one time. It happens because, as we learned from the lesson on Iterables, a zip object is both an Iterable and an Iterator.\n",
    "Using it in a for loop the second time will not retrieve any elements. The same applies to the list() constructor when we want to create a list from a zip object.\n",
    "Calling it the second time will result in an empty list.\n",
    "\n",
    "12. Unequal Iterable sizes\n",
    "What happens when one of the iterable objects contains more elements than another?\n",
    "For example, let's unwrap the abbreviation here. Now the title definitely represents a much longer Iterable than the other two. Now, let's combine our Iterables.\n",
    "\n",
    "14. Traversing through the 'zip' object\n",
    "By traversing through the created zip object, we can see that the amount of resulting items corresponds to the length of the \"shortest\" Iterable. In this case, there are two: the list of villains and the dictionary of turtles.\n",
    "\n",
    "15. Reverse operation\n",
    "Python also allows to perform a reverse operation to unzip a list containing tuples. Actually, it's also called zip. Assume, we have the following input. If we use zip() but with an asterisk before the argument, we will get the following output. It represents two tuples, one - with names, and one - with colors.\n",
    "\n",
    "result = zip(*turtles_masks).\n",
    "\n",
    "16. Unequal tuple sizes\n",
    "If we have unequal tuple sizes within the list, the reverse operation will be restricted by the length of the \"shortest\" tuple. The items above this limit are not considered.\n",
    "\n",
    "17. Relation to a dictionary\n",
    "We saw that a zip object can be represented as a list of tuples each containing elements which indices coincide with the original Iterable objects. Recall that a dictionary object can be created from a list of tuples. Therefore, a zip object can be used to create a dictionary. Let's consider the following two lists. Now, let's initialize our dictionary using the result of the zip() initializer. Printing the dictionary gives us the following output.\n",
    "\n",
    "movies = dict(zip(keys, values)).\n",
    "\n",
    "18. Creating a DataFrame\n",
    "Finally, we can use the newly created dictionary to build a DataFrame! We only have to insert the dictionary into the DataFrame initializer. The resulting DataFrame will look like this. So, we accomplished quite an amazing journey: we started from lists, merged them within the zip object, combined the result into a dictionary, and created a DataFrame!\n",
    "\n",
    "df = pd.DataFrame(movies)"
   ]
  },
  {
   "cell_type": "markdown",
   "id": "f4bf0e98",
   "metadata": {},
   "source": []
  }
 ],
 "metadata": {
  "kernelspec": {
   "display_name": "Python 3 (ipykernel)",
   "language": "python",
   "name": "python3"
  },
  "language_info": {
   "codemirror_mode": {
    "name": "ipython",
    "version": 3
   },
   "file_extension": ".py",
   "mimetype": "text/x-python",
   "name": "python",
   "nbconvert_exporter": "python",
   "pygments_lexer": "ipython3",
   "version": "3.9.18"
  }
 },
 "nbformat": 4,
 "nbformat_minor": 5
}
