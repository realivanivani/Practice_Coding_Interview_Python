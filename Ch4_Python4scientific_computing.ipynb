{
 "cells": [
  {
   "cell_type": "markdown",
   "metadata": {},
   "source": [
    "### What is the difference between a NumPy array and a list?\n",
    "\n",
    "1. What is the difference between a NumPy array and a list?\n",
    "\n",
    "    We'll cover some common questions about scientific computing in Python. We'll start with NumPy arrays and compare them to Python lists.\n",
    "\n",
    "2. NumPy array\n",
    "\n",
    "    It is a special data structure from the NumPy module representing a fundamental package for scientific computing with Python. The easiest way to create an array is to pass a list of values to the array() constructor. At the first glance, there isn't a big difference to Python's native lists.\n",
    "\n",
    "3. Similarities between an array and a list\n",
    "\n",
    "    Both data structures are Iterables. In both cases we can use indexing to access elements. \n",
    "\n",
    "    Moreover, NumPy arrays and Python lists can be modified similarly. What's so special about NumPy arrays then?\n",
    "\n",
    "    Compared to lists, NumPy arrays are optimized for high efficiency computations. How? First of all, NumPy arrays only store data of the same type.\n",
    "\n",
    "4. dtype property\n",
    "    \n",
    "    When we have an array, we can retrieve the data type it stores by accessing its .dtype property. In this case, our array stores integers represented by 64 bits.\n",
    "\n",
    "8. Changing the data type of an element\n",
    "    \n",
    "    Compared to lists, if we try to modify an element with a different data type, we'll get ValueError.\n",
    "\n",
    "9. Specifying the data type explicitly\n",
    "    \n",
    "    Actually, we can explicitly specify the data type when we create an array using the dtype keyword argument.\n",
    "\n",
    "    Independently from the list we pass, we can specify other data types like a string, for example. The output we see here means a one-character string.\n",
    "\n",
    "        num_array = np.array([1,2,3,4,5], dtype=np.type('str'))\n",
    "        num_array.dtype\n",
    "        > dtype('<U1')\n",
    "\n",
    "11. Object as a data type\n",
    "\n",
    "    If we want an array to behave like a list with respect to modification, we can use the dtype equal to 'O' which stands for Object. In this case, we can mix data types. However, we also limit the set of operations we can apply to such an array.\n",
    "\n",
    "        num_array = np.array([1,2,3,4,5], dtype = np.dtype('O'))\n",
    "    \n",
    "12. Difference between an array and a list - Accessing items\n",
    "    \n",
    "    The second property of NumPy arrays is that they offer a special way to access their elements.\n",
    "    \n",
    "    Let's assume we have this two-dimensional list. As an array it can be defined like this. To retrieve a single item, say the 8 in this case, both lists and arrays provide similar options.\n",
    "\n",
    "        array2d = np.array([\n",
    "            [1,2,3,4,5],\n",
    "            [6,7,8,9,10],\n",
    "            [11,12,13,14,15]\n",
    "        ])\n",
    "\n",
    "14. Accessing items\n",
    "\n",
    "    With arrays though, it's not necessary to specify additional square brackets.\n",
    "\n",
    "        # Retrieve 8\n",
    "        array2d[1,2]\n",
    "        > 8\n",
    "\n",
    "    But how do we retrieve an entire data block?\n",
    "\n",
    "    The solution for a list can be tricky.\n",
    "\n",
    "    An array provides a more elegant and efficient way via slicing.\n",
    "\n",
    "        array2d[0:2,1:4]\n",
    "        > array([2,3,4],\n",
    "                [7,8,9])\n",
    "\n",
    "18. Difference between an array and a list\n",
    "\n",
    "    Third, operations work differently on arrays. For simplicity, we'll focus only on numeric arrays.\n",
    "\n",
    "19. Operations +, -, *, / with lists\n",
    "\n",
    "    Let's recall that, given two lists, most of the simple mathematical operations will result in TypeError. Addition is an exception; it concatenates given lists.\n",
    "\n",
    "    In case of NumPy arrays, operations are performed element-wise. As a result, we get a new array.\n",
    "\n",
    "        num_array1 = np.array([1,2,3])\n",
    "        num_array2 = np.array([10,20,30])\n",
    "        num_array1 + num_array2\n",
    "        > array([11,22,33])\n",
    "        num_array1*num_array2\n",
    "        > array([10,40,90])\n",
    "\n",
    "    The same applies to multidimensional arrays.\n",
    "\n",
    "22. Conditional operations\n",
    "\n",
    "    Conditional operations are especially useful. Applying them on an array returns a new array of booleans indicating whether the condition is satisfied or not. The cool part is that we can use these conditions to filter our arrays. This operation takes much more effort with lists.\n",
    "\n",
    "        num_array = np.array([-5,-4,-3,0,3,4,5])\n",
    "        num_array[num_array <0]\n",
    "        > array([-5,-4,-3])\n",
    "\n",
    "23. Broadcasting\n",
    "\n",
    "    Another important feature of arrays is broadcasting. It describes how operations work on arrays of different dimensions. For example, what happens if we multiply this array by 3? We certainly know the answer for lists: they get extended. In case of arrays, each element is multiplied by 3 resulting in a new array. The same applies to other operations. We say that 3 broadcasts itself to all the array elements meaning that 3 operates on each element separately.\n",
    "        \n",
    "        num_list = [1,2,3]\n",
    "        num_list * 3\n",
    "        > [1,2,3,1,2,3,1,2,3]\n",
    "        \n",
    "        num_array = np.array([1,2,3])\n",
    "        num_array * 3\n",
    "        > array([3,6,9])\n",
    "\n",
    "\n",
    "24. Broadcasting with multidimensional arrays\n",
    "\n",
    "    We can do broadcasting with multidimensional arrays. For this example, the one-dimensional array broadcasts itself to all three rows of the two-dimensional array. Broadcasting is applied to rows by default. If we want to broadcast to columns, we need to modify our one-dimensional array to be a column vector. And here's the result.\n",
    "\n",
    "        array1d = np.array([[1], [2], [3]])\n",
    "        \n",
    "26. Let's practice"
   ]
  },
  {
   "cell_type": "code",
   "execution_count": 4,
   "metadata": {},
   "outputs": [],
   "source": [
    "import numpy as np"
   ]
  },
  {
   "cell_type": "code",
   "execution_count": 5,
   "metadata": {},
   "outputs": [
    {
     "ename": "ValueError",
     "evalue": "setting an array element with a sequence. The requested array has an inhomogeneous shape after 1 dimensions. The detected shape was (3,) + inhomogeneous part.",
     "output_type": "error",
     "traceback": [
      "\u001b[0;31m---------------------------------------------------------------------------\u001b[0m",
      "\u001b[0;31mValueError\u001b[0m                                Traceback (most recent call last)",
      "Cell \u001b[0;32mIn[5], line 2\u001b[0m\n\u001b[1;32m      1\u001b[0m \u001b[38;5;66;03m# What is the type of the following array?\u001b[39;00m\n\u001b[0;32m----> 2\u001b[0m \u001b[43mnp\u001b[49m\u001b[38;5;241;43m.\u001b[39;49m\u001b[43marray\u001b[49m\u001b[43m(\u001b[49m\u001b[43m[\u001b[49m\u001b[38;5;241;43m1\u001b[39;49m\u001b[43m,\u001b[49m\u001b[43m(\u001b[49m\u001b[38;5;241;43m2\u001b[39;49m\u001b[43m,\u001b[49m\u001b[38;5;241;43m3\u001b[39;49m\u001b[43m)\u001b[49m\u001b[43m,\u001b[49m\u001b[38;5;241;43m4\u001b[39;49m\u001b[43m]\u001b[49m\u001b[43m)\u001b[49m\u001b[38;5;241m.\u001b[39mdtype\n",
      "\u001b[0;31mValueError\u001b[0m: setting an array element with a sequence. The requested array has an inhomogeneous shape after 1 dimensions. The detected shape was (3,) + inhomogeneous part."
     ]
    }
   ],
   "source": [
    "# What is the type of the following array?\n",
    "np.array([1,(2,3),4]).dtype"
   ]
  },
  {
   "cell_type": "markdown",
   "metadata": {},
   "source": [
    "#### Accessing subarrays\n",
    "\n",
    "Let's access elements in NumPy arrays! Your task is to convert a square two-dimensional array square of size size to a list created by following a spiral pattern:\n",
    "\n",
    "Traversing the matrix in spiral way\n",
    "\n",
    "Rather than simply accessing certain slices, you will define a more general solution using a for loop (the solution should work for all the square two-dimensional arrays of odd size).\n",
    "\n",
    "The module numpy is already imported as np.\n",
    "\n",
    "You will need the reversed() function, which reverses an Iterable."
   ]
  },
  {
   "cell_type": "code",
   "execution_count": 7,
   "metadata": {},
   "outputs": [],
   "source": [
    "square = np.array([[ 1,  2,  3,  4,  5],\n",
    "       [ 6,  7,  8,  9, 10],\n",
    "       [11, 12, 13, 14, 15],\n",
    "       [16, 17, 18, 19, 20],\n",
    "       [21, 22, 23, 24, 25]])"
   ]
  },
  {
   "cell_type": "code",
   "execution_count": 10,
   "metadata": {},
   "outputs": [
    {
     "name": "stdout",
     "output_type": "stream",
     "text": [
      "[1, 2, 3, 4, 5, 10, 15, 20, 25, 24, 23, 22, 21, 16, 11, 6, 7, 8, 9, 14, 19, 18, 17, 12, 13]\n"
     ]
    }
   ],
   "source": [
    "spiral = []\n",
    "size = len(square)\n",
    "\n",
    "for i in range(0, size):\n",
    "    # Convert each part marked by a red arrow to a list\n",
    "    spiral += list(square[i, i:size-i])\n",
    "    # Convert each part marked by a green arrow to a list\n",
    "    spiral += list(square[i+1:size-i, size-i-1])\n",
    "    # Convert each part marked by a blue arrow to a list\n",
    "    spiral += list(reversed(square[size-i-1, i:size-i-1]))\n",
    "    # Convert each part marked by a magenta arrow to a list\n",
    "    spiral += list(reversed(square[i+1:size-i-1, i]))\n",
    "        \n",
    "print(spiral)"
   ]
  },
  {
   "cell_type": "markdown",
   "metadata": {},
   "source": [
    "#### Operations with NumPy arrays\n",
    "\n",
    "The following blocks of code create new lists given input lists input_list1, input_list2, input_list3 (you can check their values in the console). If you had analogous NumPy arrays with the same values input_array1, input_array2, input_array3 (you can check their values in the console), how would you create similar output as NumPy arrays using the knowledge on broadcasting, accessing element in NumPy arrays, and performing element-wise operations?\n",
    "\n",
    "Block 1\n",
    "\n",
    "list(map(lambda x: [5*i for i in x], input_list1))\n",
    "\n",
    "Block 2\n",
    "\n",
    "list(filter(lambda x: x % 2 == 0, input_list2))\n",
    "\n",
    "Block 3\n",
    "\n",
    "[[i*i for i in j] for j in input_list3]"
   ]
  },
  {
   "cell_type": "code",
   "execution_count": 13,
   "metadata": {},
   "outputs": [],
   "source": [
    "input_array1 = np.array([[1, 2, 3],\n",
    "       [4, 5, 6],\n",
    "       [7, 8, 9]])\n",
    "input_array2 = np.array([0, 1, 2, 3, 4, 5, 6, 7, 8, 9])\n",
    "input_array3 = np.array([[1, 2],\n",
    "       [3, 4],\n",
    "       [5, 6]])\n",
    "\n",
    "input_list1 = [[1, 2, 3], [4, 5, 6], [7, 8, 9]]\n",
    "input_list2 = [0, 1, 2, 3, 4, 5, 6, 7, 8, 9]\n",
    "input_list3 = [[1, 2], [3, 4], [5, 6]]"
   ]
  },
  {
   "cell_type": "code",
   "execution_count": 14,
   "metadata": {},
   "outputs": [
    {
     "name": "stdout",
     "output_type": "stream",
     "text": [
      "[[5, 10, 15], [20, 25, 30], [35, 40, 45]]\n",
      "[[ 5 10 15]\n",
      " [20 25 30]\n",
      " [35 40 45]]\n"
     ]
    }
   ],
   "source": [
    "# Substitute the code in the block 1 given the input_array1\n",
    "output_array1 = input_array1 * 5 \n",
    "print(list(map(lambda x: [5*i for i in x], input_list1)))\n",
    "print(output_array1)"
   ]
  },
  {
   "cell_type": "code",
   "execution_count": 15,
   "metadata": {},
   "outputs": [
    {
     "name": "stdout",
     "output_type": "stream",
     "text": [
      "[0, 2, 4, 6, 8]\n",
      "[0 2 4 6 8]\n"
     ]
    }
   ],
   "source": [
    "# Substitute the code in the block 2 given the input_array2\n",
    "output_array2 = input_array2[ input_array2 % 2 == 0]\n",
    "print(list(filter(lambda x: x % 2 == 0, input_list2)))\n",
    "print(output_array2)"
   ]
  },
  {
   "cell_type": "code",
   "execution_count": 16,
   "metadata": {},
   "outputs": [
    {
     "name": "stdout",
     "output_type": "stream",
     "text": [
      "[[1, 4], [9, 16], [25, 36]]\n",
      "[[ 1  4]\n",
      " [ 9 16]\n",
      " [25 36]]\n"
     ]
    }
   ],
   "source": [
    "# Substitute the code in the block 3 given the input_array3\n",
    "output_array3 = input_array3 * input_array3\n",
    "print([[i*i for i in j] for j in input_list3])\n",
    "print(output_array3)"
   ]
  },
  {
   "cell_type": "markdown",
   "metadata": {},
   "source": [
    "### How to use the .apply() method on a DataFrame?\n",
    "\n",
    "1. How to use the .apply() method on a DataFrame?\n",
    "\n",
    "    Let's move to DataFrames! We'll cover one of the most frequently used methods, .apply().\n",
    "\n",
    "2. Dataset\n",
    "\n",
    "    First, let's pick a dataset. We'll work with data on 100 students and their performance on different subjects. Each performance score varies between 0 and 100.\n",
    "\n",
    "3. Default .apply()\n",
    "\n",
    "Let's use the .apply() method. It requires one argument - a function that, by default, is applied on each column of a DataFrame. However, the output of .apply() may differ. For example, applying the sqrt() function results in a DataFrame with square roots of original values.\n",
    "\n",
    "4. Default .apply()\n",
    "00:45 - 00:53\n",
    "However, using the mean() function returns a Series. Why?\n",
    "\n",
    "5. Default .apply()\n",
    "00:53 - 01:10\n",
    "The columns we apply the function to are passed as pandas Series. When we use sqrt(), we simply modify each value in a column and return an object of the same size. When we use mean(), we summarize the Series with a single value.\n",
    "\n",
    "6. Default .apply(): own functions\n",
    "01:10 - 01:24\n",
    "For example, let's define a function halving our scores. We get a modified DataFrame because passing columns to our defined function results in an object of the same size.\n",
    "\n",
    "7. Default .apply(): own functions\n",
    "01:24 - 01:36\n",
    "On the contrary, if we return only one value - for example, a perfect score - we summarize each column by a single value. Therefore, we get pandas Series.\n",
    "\n",
    "8. Lambda expressions\n",
    "01:36 - 01:39\n",
    "Of course, our functions can be substituted with lambda expressions!\n",
    "\n",
    "9. Lambda expressions\n",
    "01:39 - 01:46\n",
    "It will simplify our code with no changes in our output.\n",
    "\n",
    "10. Additional arguments: axis\n",
    "01:46 - 01:55\n",
    "Let's have a look at additional arguments we can pass to the .apply() method. We'll start with the axis argument.\n",
    "\n",
    "11. Additional arguments: axis\n",
    "01:55 - 01:57\n",
    "which can be either 0, which is default,\n",
    "\n",
    "12. Additional arguments: axis\n",
    "01:57 - 01:58\n",
    "or 1.\n",
    "\n",
    "13. Additional arguments: axis\n",
    "01:58 - 02:13\n",
    "0 means that the function is applied over the columns of a DataFrame, 1 - over the rows. Specifying this argument is useful for functions resulting in a single value like mean().\n",
    "\n",
    "14. Additional arguments: axis\n",
    "02:13 - 02:19\n",
    "Zero implies no difference from the default behavior: we get the mean of each column.\n",
    "\n",
    "15. Additional arguments: axis\n",
    "02:19 - 02:25\n",
    "1 implies averaging values in each row instead.\n",
    "\n",
    "16. Additional arguments: result_type\n",
    "02:25 - 03:07\n",
    "The next argument we'll discuss is result_type. We'll consider only some of the values it can take. The first one is expand. To understand it, let's define a function that returns a list with the minimum and the maximum value of the input. When we apply the function to the DataFrame, we get a pandas Series with the corresponding summary for each column. Notice that the list returned by the span() function is considered as a single value summarizing our input, despite the fact that its size is 2. Therefore, the .apply() method results in a pandas Series.\n",
    "\n",
    "17. Additional arguments: result_type\n",
    "03:07 - 03:14\n",
    "Specifying the keyword argument unwraps our list resulting in the following DataFrame.\n",
    "\n",
    "18. Additional arguments: result_type\n",
    "03:14 - 03:22\n",
    "Adding the axis argument and setting it to 1 applies the span() function row-wise and unfolds the list for each row.\n",
    "\n",
    "19. Additional arguments: result_type\n",
    "03:22 - 03:32\n",
    "The second useful value for result_type is broadcast. To understand it, let's consider applying the mean() function again.\n",
    "\n",
    "20. Additional arguments: result_type\n",
    "03:32 - 03:42\n",
    "Specifying broadcasting results in a DataFrame of the original size where each column is filled with the corresponding output from the mean() function.\n",
    "\n",
    "21. More than one argument in a function\n",
    "03:42 - 03:48\n",
    "So far, our functions we used .apply() with had only one argument.\n",
    "\n",
    "22. More than one argument in a function\n",
    "03:48 - 04:06\n",
    "But what if we have more arguments including keyword arguments? For example, let's have a function that by default checks if the calculated mean is within a certain interval. If the value of the keyword argument changes to False, then we check an opposite scenario.\n",
    "\n",
    "23. Applying the function\n",
    "04:06 - 04:13\n",
    "Let's use .apply() with our function. We get TypeError because we didn't specify its arguments!\n",
    "\n",
    "24. Additional arguments: args\n",
    "04:13 - 04:44\n",
    "They can be specified in the args argument of the .apply() method. It's a list containing positional arguments for our function. Let's try it now. It works! Notice, the values in the list should have the same order as the function arguments. We didn't specify the 'inside' keyword argument, so the function executes with its default value. What if we want to pass another value?\n",
    "\n",
    "25. Additional arguments: args\n",
    "04:44 - 04:53\n",
    "We can simply insert it afterwards. As expected, setting it to False produces an inverted result.\n",
    "\n",
    "26. Let's practice!"
   ]
  }
 ],
 "metadata": {
  "kernelspec": {
   "display_name": "Python 3 (ipykernel)",
   "language": "python",
   "name": "python3"
  },
  "language_info": {
   "codemirror_mode": {
    "name": "ipython",
    "version": 3
   },
   "file_extension": ".py",
   "mimetype": "text/x-python",
   "name": "python",
   "nbconvert_exporter": "python",
   "pygments_lexer": "ipython3",
   "version": "3.10.13"
  }
 },
 "nbformat": 4,
 "nbformat_minor": 2
}
