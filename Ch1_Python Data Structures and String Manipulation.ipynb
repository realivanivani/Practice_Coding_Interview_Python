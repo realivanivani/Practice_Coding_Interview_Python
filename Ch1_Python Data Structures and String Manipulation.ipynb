{
 "cells": [
  {
   "cell_type": "markdown",
   "id": "9484aa01",
   "metadata": {},
   "source": [
    "### Python Data Structures and String Manipulation"
   ]
  },
  {
   "cell_type": "markdown",
   "id": "cede9da1",
   "metadata": {},
   "source": [
    "1. What are the main data structures in Python?\n",
    "Welcome to the course on Coding Interview Questions in Python! My name is Kirill Smirnov and I am a Data Science Consultant at Altran. We'll go through some common topics met during a job interview process. Let's start with the basic question: what are the main data structures in Python?\n",
    "\n",
    "2. Data Structure\n",
    "But first, what is a data structure? It is a specialized format to organize and store data. Python's standard library has four main data structures: list, tuple, set, and dictionary. Let's get through each of them!\n",
    "\n",
    "3. List\n",
    "List. List represents an ordered mutable sequence of items, like numbers, strings, and other objects. Lists are created by inserting comma-separated items into square brackets.\n",
    "\n",
    "4. List: accessing items\n",
    "To retrieve an item, we have to specify its index in square brackets after the variable's name. Remember, Python starts indexing from zero, not from one! Using negative indices is also possible. In this case, counting works backwards in the list. We can also access a sub-list via slicing. Note that the item corresponding to the right-hand side index is not included. Not specifying the left-hand or right-hand side index results in the whole range taken into account.\n",
    "\n",
    "5. List: modifying items\n",
    "Modifying items is very simple as well. We can change either a single item or a slice.\n",
    "\n",
    "6. List: methods\n",
    "Lists have some useful methods. .append() adds a new item to a list. .remove() deletes a specific item from a list.\n",
    "\n",
    "7. List: methods\n",
    ".pop() removes the last item from a list and returns its value. .count() counts the amount of a certain item in a list.\n",
    "\n",
    "8. Tuple\n",
    "Tuple. Tuple is an immutable sequence of items. Here, immutable means that we cannot modify it. There are two ways to create a tuple: Either by using round brackets or by writing comma-separated values. Accessing items in a tuple is similar to list mechanics.\n",
    "\n",
    "9. Tuple: modifying values\n",
    "Modifying though is not possible: we will get TypeError.\n",
    "\n",
    "10. Set\n",
    "Set. Set is an unordered collection with no duplicate items. Unordered means that there is no indexing for the constituent items. Here is the code to create a set. If we have duplicates during creation, they are not included.\n",
    "\n",
    "11. Set: methods\n",
    "Sets have some useful methods. .add() inserts a new item to a set. .remove() does the contrary. .union() returns a new set with items from both sets. .intersection() returns a new set with only common items. .difference() returns a new set with items present in one set but not in another.\n",
    "\n",
    "12. Dictionary\n",
    "Dictionary. Dictionary is a collection of key-value pairs where keys are unique and immutable. A key has a unique correspondence to its value but not vice versa. There are several ways to create a dictionary. For example, using curly brackets and specifying each key-value pair with a colon or using the dict() constructor together with a list of tuples.\n",
    "\n",
    "13. Dictionary: accessing values\n",
    "A value associated with a key can be accessed by specifying the key within square brackets. The operation raises KeyError if the key does not exist.\n",
    "\n",
    "14. Dictionary: modifying values\n",
    "Modifying the value for a key is very straightforward: Accessing the value and re-assigning it. If the key does not exist, the operation creates a new key-value pair.\n",
    "\n",
    "15. Dictionary: methods\n",
    "Dictionaries have some useful methods. .items() returns the stored key-value pairs.\n",
    "\n",
    "16. Dictionary: methods\n",
    "We can pass the method output to the list() constructor to get the corresponding list.\n",
    "\n",
    "17. Dictionary: methods\n",
    "We can also retrieve keys and values separately\n",
    "\n",
    "18. Dictionary: methods\n",
    "and also use the trick with the list() constructor.\n",
    "\n",
    "19. Dictionary: methods\n",
    "We can remove the last inserted key-value pair with the .popitem() method. The method also returns the associated value.\n",
    "\n",
    "20. Operations on Lists, Tuples, Sets, and Dictionaries\n",
    "We can apply some operations on all the aforementioned collections. One very practical is: len() that returns the collection's size.\n",
    "\n",
    "21. Operations on Lists, Tuples, Sets, and Dictionaries\n",
    "Another one uses the in keyword that checks if an item is already present in a collection.\n",
    "\n",
    "22. Let's practice!\n",
    "We went through some main data structures in Python. Now it's time to practice!"
   ]
  },
  {
   "cell_type": "markdown",
   "id": "9340a32b",
   "metadata": {},
   "source": [
    "#### List methods\n",
    "Let's practice list methods!\n",
    "\n",
    "Let's imagine a situation: you went to the market and filled your baskets (basket1 and basket2) with fruits. You wanted to have one of each kind but realized that some fruits were put in both baskets.\n",
    "\n",
    "Task 1. Your first task is to remove everything from basket2 that is already present in basket1.\n",
    "\n",
    "Task 2. After the removal it is reasonable to anticipate that one of the baskets might weigh more compared to the another (all fruit kinds weight the same). Therefore, the second task is to transfer some fruits from a heavier basket to the lighter one to get approximately the same weight/amount of fruits."
   ]
  },
  {
   "cell_type": "code",
   "execution_count": 10,
   "id": "ef2f0544",
   "metadata": {},
   "outputs": [],
   "source": [
    "basket1 = ['banana', 'kiwifruits', 'grapefruits', 'apples', 'apricots', 'nectarines', 'oranges', 'peaches', 'pears', 'lemons']\n",
    "basket2 = ['grapes', 'dragonfruits', 'limes', 'papaya']"
   ]
  },
  {
   "cell_type": "code",
   "execution_count": 11,
   "id": "8c565bb9",
   "metadata": {},
   "outputs": [
    {
     "name": "stdout",
     "output_type": "stream",
     "text": [
      "Basket 1: ['banana', 'kiwifruits', 'grapefruits', 'apples', 'apricots', 'nectarines', 'oranges', 'peaches', 'pears', 'lemons']\n",
      "Basket 2: ['grapes', 'dragonfruits', 'limes', 'papaya']\n",
      "Basket 1: ['banana', 'kiwifruits', 'grapefruits', 'apples', 'apricots', 'nectarines', 'oranges']\n",
      "Basket 2: ['grapes', 'dragonfruits', 'limes', 'papaya', 'lemons', 'pears', 'peaches']\n"
     ]
    }
   ],
   "source": [
    "# Remove fruits from basket2 that are present in basket1\n",
    "for item in basket1:\n",
    "    if item in basket2:\n",
    "        basket2.remove(item)\n",
    "\n",
    "print('Basket 1: ' + str(basket1))\n",
    "print('Basket 2: ' + str(basket2))\n",
    "\n",
    "# Transfer fruits from basket1 to basket2\n",
    "while len(basket1) > len(basket2):\n",
    "    item_to_transfer = basket1.pop()\n",
    "    basket2.append(item_to_transfer)\n",
    "\n",
    "print('Basket 1: ' + str(basket1))\n",
    "print('Basket 2: ' + str(basket2))"
   ]
  },
  {
   "cell_type": "markdown",
   "id": "9c0a8c26",
   "metadata": {},
   "source": [
    "#### Operations on sets\n",
    "Using mathematical notation, we can define the following operations given two sets X and Y:\n",
    "  \n",
    " - the intersection between \n",
    " X a Y (all elements which are in both X and Y)\n",
    "\n",
    "  \n",
    " - the union between \n",
    " X U Y (all elements which are either in X or Y)\n",
    "\n",
    "  \n",
    " - the difference between \n",
    "X - Y (all elements which are in X but not in Y)\n",
    "\n",
    "You are given 5 sets of integers A, B, C, D,E (You should see them in the console). What is the result of the following expression?\n",
    "\n",
    "(A U (B a C)) - (D a E)"
   ]
  },
  {
   "cell_type": "code",
   "execution_count": 3,
   "id": "bde2e954",
   "metadata": {},
   "outputs": [],
   "source": [
    "A = {1, 2, 3, 4, 5, 6, 7}\n",
    "B = {5, 7, 9, 11, 13, 15}\n",
    "C = {1, 2, 8, 10, 11, 12, 13, 14, 15, 16, 17}\n",
    "D = {1, 3, 5, 7, 9, 11, 12, 13, 14, 15, 16, 17, 18, 19, 20}\n",
    "E = {9, 10, 11, 12, 13, 14, 15}"
   ]
  },
  {
   "cell_type": "code",
   "execution_count": 4,
   "id": "09c2bc4a",
   "metadata": {},
   "outputs": [],
   "source": [
    "result = {1,2,3,4,5,6,7}"
   ]
  },
  {
   "cell_type": "markdown",
   "id": "abb69049",
   "metadata": {},
   "source": [
    "It can be described by the following equation:\n",
    " \n",
    " xˆ2 / a^2 + yˆ2 / aˆ2 = z\n",
    " \n",
    "Let's set the coefficient a to 1. Therefore, the radius at each cut will be equal to sqrt(z)\n",
    "\n",
    "Your task is to create a dictionary that stores the mapping from the pair of coordinates (x,y) to the z coordinate (the lists storing considered ranges for x and y are given: range_x and range_y, respectively)."
   ]
  },
  {
   "cell_type": "code",
   "execution_count": 2,
   "id": "929085f7",
   "metadata": {},
   "outputs": [],
   "source": [
    "range_x = [0.0, 0.2, 0.4, 0.6, 0.8, 1.0, 1.2, 1.4, 1.6, 1.8, 2.0]\n",
    "range_y = [0.0, 0.2, 0.4, 0.6, 0.8, 1.0, 1.2, 1.4, 1.6, 1.8, 2.0]"
   ]
  },
  {
   "cell_type": "code",
   "execution_count": 3,
   "id": "9b4fd8f4",
   "metadata": {},
   "outputs": [],
   "source": [
    "circ_parab = dict()\n",
    "\n",
    "for x in range_x:\n",
    "    for y in range_y:        \n",
    "        # Calculate the value for z\n",
    "        z = x**2 + y**2\n",
    "        # Create a new key for the dictionary\n",
    "        key = x,y\n",
    "        # Create a new key-value pair      \n",
    "        circ_parab[key] = z"
   ]
  },
  {
   "cell_type": "markdown",
   "id": "5aa6ceb1",
   "metadata": {},
   "source": [
    "What is the value of circ_parab for the key (1.8, 1.4)?"
   ]
  },
  {
   "cell_type": "code",
   "execution_count": 4,
   "id": "1e535f6e",
   "metadata": {},
   "outputs": [
    {
     "data": {
      "text/plain": [
       "5.2"
      ]
     },
     "execution_count": 4,
     "metadata": {},
     "output_type": "execute_result"
    }
   ],
   "source": [
    "circ_parab[1.8,1.4]"
   ]
  },
  {
   "cell_type": "markdown",
   "id": "dbcd3fc4",
   "metadata": {},
   "source": [
    "### What are common ways to manipulate strings?"
   ]
  },
  {
   "cell_type": "markdown",
   "id": "4f107a1b",
   "metadata": {},
   "source": [
    "1. What are common ways to manipulate strings?\n",
    "The next topic we'll cover is string manipulation. Coding exercises in interviews often involve this subject.\n",
    "\n",
    "2. String\n",
    "Strings are created simply by enclosing a text in single or double quotes.\n",
    "\n",
    "3. String\n",
    "Generally, strings are created using the str() constructor. We can also pass to it other data types like real numbers, or lists to convert them to a string.\n",
    "\n",
    "4. str() constructor\n",
    "Actually, we can pass any object to the str() constructor. Let's check it with our own object. Recall that first we need to create a class representing a \"blueprint\" of an object. We need to include the __init__() method indicating the state of our object at initialization. Here, an object is initialized with the num variable. After creating an instance, we can retrieve the value of this variable. If we pass the object to the str() constructor, we'll get quite unreadable output. How to customize it?\n",
    "\n",
    "5. str() constructor\n",
    "We have to implement the __str__() method in the class. Here, this method will return the value of the num variable. Now, when we create an instance and pass it to the str() constructor, we get the number defined at initialization.\n",
    "\n",
    "6. Accessing characters in a string\n",
    "String characters are indexed. Therefore, we can access each character using square brackets with the corresponding index. Negative indices can be used as well. We can also use slicing. If left-hand or right-hand side index is omitted, all the characters in the corresponding direction are considered.\n",
    "\n",
    "7. The .index() method\n",
    "To retrieve an index of a specific character in a string, use the .index() method. Note that if a character is present in a string more than once, only the lowest index is returned.\n",
    "\n",
    "8. Strings are immutable\n",
    "Strings are immutable. We cannot modify an existing string. Doing so will raise an error. You could ask: but there are plenty of methods that we can apply on a string object implying modification! The answer is: it only looks like modification. In reality, we return a new string object. Let's look at some of these methods.\n",
    "\n",
    "9. Modifying methods 1\n",
    "First is string concatenation. It is easily done with the \"+\" operator. Another important method is replacing a substring. It substitutes all the occurrences of a specific character sequence in a string with another sequence.\n",
    "\n",
    "10. Modifying methods 2\n",
    "There is a set of methods to change case representation in a string. For example, transforming to the upper case or to the lower case. If we need to capitalize only the first letter in a string, we have to use the .capitalize() method.\n",
    "\n",
    "11. Relation to lists\n",
    "Let's look at a couple of methods dealing with lists. We will begin with creating a string from a list of strings. Assume we have the following list. To convert it to a proper sentence, we can use the .join() method. We need to specify a delimiter that is inserted between the strings in the list and to pass the list as an argument. The second method is about breaking a string into a list. Let's inverse the operation we just did. For this, we can use the .split() method. We need to specify the string to apply the method to and the delimiter for splitting.\n",
    "\n",
    "12. String methods with DataFrames\n",
    "Knowledge of string methods is very handy because we can use them with DataFrames. More specifically, we can apply them to columns containing text data. Let's create a DataFrame using a custom dictionary. As you can see, the name column contains text data. However, the names are not capitalized.\n",
    "\n",
    "13. String methods with DataFrames\n",
    "To change that, we need to modify the column of interest.\n",
    "\n",
    "14. String methods with DataFrames\n",
    "We start by accessing the column.\n",
    "\n",
    "15. String methods with DataFrames\n",
    "Then, we add an str specifier that gives us access to the string methods.\n",
    "\n",
    "16. String methods with DataFrames\n",
    "And finally, we call the .capitalize() method we already know. Let's check the result! Great! We capitalized all the names in our DataFrame in just seconds!\n",
    "\n",
    "17. Let's practice!\n",
    "aThat was quite a lot of information. Let's put it all together and get some practice!"
   ]
  },
  {
   "cell_type": "markdown",
   "id": "7ea71c5a",
   "metadata": {},
   "source": [
    "#### String indexing and concatenation\n",
    "You are presented with one of the earliest known encryption techniques - Caesar cipher. It is based on a simple shift of each letter in a message by a certain number of positions down the given alphabet. For example, given the English alphabet, a shift of 1 for 'xyz' would imply 'yza' and vice versa in case of decryption. Notice that 'z' becomes 'a' in this case.\n",
    "\n",
    "Thus, encryption/decryption requires two arguments: text and an integer key denoting the shift (key = 1 for the example above).\n",
    "\n",
    "Your task is to create an encryption function given the English alphabet stored in the alphabet string."
   ]
  },
  {
   "cell_type": "code",
   "execution_count": 3,
   "id": "5c7c5929",
   "metadata": {},
   "outputs": [],
   "source": [
    "alphabet = 'abcdefghijklmnopqrstuvwxyz'"
   ]
  },
  {
   "cell_type": "code",
   "execution_count": 4,
   "id": "3b9e39d0",
   "metadata": {},
   "outputs": [
    {
     "name": "stdout",
     "output_type": "stream",
     "text": [
      "nkdkmkwz\n"
     ]
    }
   ],
   "source": [
    "def encrypt(text, key):\n",
    "  \n",
    "    encrypted_text = ''\n",
    "\n",
    "    # Fill in the blanks to create an encrypted text\n",
    "    for char in text.lower():\n",
    "        idx = (alphabet.index(char) + key) % len(alphabet)\n",
    "        encrypted_text = encrypted_text + alphabet[idx]\n",
    "\n",
    "    return encrypted_text\n",
    "\n",
    "# Check the encryption function with the shift equals to 10\n",
    "print(encrypt(\"datacamp\", 10))"
   ]
  },
  {
   "cell_type": "markdown",
   "id": "3deeebef",
   "metadata": {},
   "source": [
    "Great! Interestingly, decryption function is only different by the line you fixed in the for loop. What would be the corresponding change in the decrypt() function?"
   ]
  },
  {
   "cell_type": "code",
   "execution_count": 5,
   "id": "8958cb12",
   "metadata": {},
   "outputs": [
    {
     "ename": "NameError",
     "evalue": "name 'char' is not defined",
     "output_type": "error",
     "traceback": [
      "\u001b[0;31m---------------------------------------------------------------------------\u001b[0m",
      "\u001b[0;31mNameError\u001b[0m                                 Traceback (most recent call last)",
      "Cell \u001b[0;32mIn[5], line 1\u001b[0m\n\u001b[0;32m----> 1\u001b[0m idx \u001b[38;5;241m=\u001b[39m (alphabet\u001b[38;5;241m.\u001b[39mindex(\u001b[43mchar\u001b[49m) \u001b[38;5;241m-\u001b[39m key) \u001b[38;5;241m%\u001b[39m \u001b[38;5;28mlen\u001b[39m(alphabet)\n",
      "\u001b[0;31mNameError\u001b[0m: name 'char' is not defined"
     ]
    }
   ],
   "source": [
    "idx = (alphabet.index(char) - key) % len(alphabet)"
   ]
  },
  {
   "cell_type": "markdown",
   "id": "5d1e8f23",
   "metadata": {},
   "source": [
    "#### Operations on strings\n",
    "You are given the variable text storing the following string 'StRing ObJeCts haVe mANy inTEResting pROPerTies'.\n",
    "\n",
    "Your task is to modify this string in such a way that would result in 'string OBJECTS have MANY interesting PROPERTIES' (every other word in text is lowercased and uppercased, otherwise). You will obtain this result in three steps."
   ]
  },
  {
   "cell_type": "code",
   "execution_count": 7,
   "id": "4f44bfba",
   "metadata": {},
   "outputs": [
    {
     "name": "stdout",
     "output_type": "stream",
     "text": [
      "['string', 'OBJECTS', 'have', 'MANY', 'interesting', 'PROPERTIES']\n",
      "string OBJECTS have MANY interesting PROPERTIES\n"
     ]
    }
   ],
   "source": [
    "text = 'StRing ObJeCts haVe mANy inTEResting pROPerTies'\n",
    "\n",
    "# Create a word list from the string stored in 'text'\n",
    "word_list = text.split()\n",
    "\n",
    "# Make every other word lowercased; otherwise - uppercased\n",
    "for i in range(len(word_list)):\n",
    "    if (i + 1) % 2 == 0:\n",
    "        word_list[i] = word_list[i].upper()\n",
    "    else:\n",
    "        word_list[i] = word_list[i].lower()\n",
    "\n",
    "print(word_list)\n",
    "\n",
    "# Join the words back and form a new string\n",
    "new_text = ' '.join(word_list)\n",
    "print(new_text)"
   ]
  },
  {
   "cell_type": "markdown",
   "id": "3de2a075",
   "metadata": {},
   "source": [
    "#### Fixing string errors in a DataFrame\n",
    "You are given the heroes dataset containing the information on different comic book heroes. However, you'll need to make some refinements in order to use this dataset further.\n",
    "\n",
    "Comparing Eye color, Hair color, and Skin color columns, you can see that strings in the Hair color columns are capitalized, whereas in other two the strings are lowercased.\n",
    "\n",
    "Moreover, some rows in the Gender column contain a spelling error (Fmale instead of Female).\n",
    "\n",
    "Your task is to make the strings in the Hair color column lowercased and to fix the spelling error in the Gender column."
   ]
  },
  {
   "cell_type": "code",
   "execution_count": 8,
   "id": "ddfcb4f4",
   "metadata": {},
   "outputs": [
    {
     "ename": "NameError",
     "evalue": "name 'heroes' is not defined",
     "output_type": "error",
     "traceback": [
      "\u001b[0;31m---------------------------------------------------------------------------\u001b[0m",
      "\u001b[0;31mNameError\u001b[0m                                 Traceback (most recent call last)",
      "Cell \u001b[0;32mIn[8], line 2\u001b[0m\n\u001b[1;32m      1\u001b[0m \u001b[38;5;66;03m# Make all the values in the 'Hair color' column lowercased\u001b[39;00m\n\u001b[0;32m----> 2\u001b[0m heroes[\u001b[38;5;124m'\u001b[39m\u001b[38;5;124mHair color\u001b[39m\u001b[38;5;124m'\u001b[39m] \u001b[38;5;241m=\u001b[39m \u001b[43mheroes\u001b[49m[\u001b[38;5;124m'\u001b[39m\u001b[38;5;124mHair color\u001b[39m\u001b[38;5;124m'\u001b[39m]\u001b[38;5;241m.\u001b[39mstr\u001b[38;5;241m.\u001b[39mlower()\n\u001b[1;32m      4\u001b[0m \u001b[38;5;66;03m# Check the values in the 'Hair color' column\u001b[39;00m\n\u001b[1;32m      5\u001b[0m \u001b[38;5;28mprint\u001b[39m(heroes[\u001b[38;5;124m'\u001b[39m\u001b[38;5;124mHair color\u001b[39m\u001b[38;5;124m'\u001b[39m]\u001b[38;5;241m.\u001b[39mvalue_counts())\n",
      "\u001b[0;31mNameError\u001b[0m: name 'heroes' is not defined"
     ]
    }
   ],
   "source": [
    "# Make all the values in the 'Hair color' column lowercased\n",
    "heroes['Hair color'] = heroes['Hair color'].str.lower()\n",
    "  \n",
    "# Check the values in the 'Hair color' column\n",
    "print(heroes['Hair color'].value_counts())\n",
    "\n",
    "# Substitute 'Fmale' with 'Female' in the 'Gender' column\n",
    "heroes['Gender'] = heroes['Gender'].str.replace('Fmale', 'Female')\n",
    "\n",
    "# Check if there is no occurences of 'Fmale'\n",
    "print(heroes['Gender'].value_counts())"
   ]
  },
  {
   "cell_type": "markdown",
   "id": "8ad0e64b",
   "metadata": {},
   "source": [
    "### How to write regular expressions in Python?"
   ]
  },
  {
   "cell_type": "markdown",
   "id": "c6f2ca48",
   "metadata": {},
   "source": [
    "1. How to write regular expressions in Python?\n",
    "In this lesson we'll cover how to write regular expressions in Python.\n",
    "\n",
    "2. Definition\n",
    "A regular expression is a sequence of special characters or so-called metacharacters defining a pattern to search in a text. The easiest sequence is just a sequence of letters as in this example. If we provide some text and search for this sequence,\n",
    "\n",
    "3. Definition\n",
    "we will find the following matches. Note that, apart from the word cat, the sequence fits to the beginning of the word \"catches\". But what to do if we want to search for more complicated patterns?\n",
    "\n",
    "4. Complex patterns\n",
    "Let's check with this text. We want to have a sequence that fits\n",
    "\n",
    "5. Complex patterns\n",
    "to all the e-mail addresses in it. Simple character sequence isn't enough. Therefore, metacharacters are needed.\n",
    "\n",
    "6. Special characters\n",
    "In a regular expression metacharacters are mapped to real characters. Some of them are simple and are mapped onto themselves. A dot metacharacter is mapped to everything. But a dot prefixed with backslash maps to a dot character.\n",
    "\n",
    "7. Special characters\n",
    "The following metacharacters represent backslash followed by a letter. \"w\" small maps to any alphanumeric character or underscore. \"d\" small maps to any digit. \"s\" small maps to any whitespace character\n",
    "\n",
    "8. Square brackets\n",
    "Several metacharacters can be enclosed in square brackets which itself is a metacharacter. In this case, the mapping will result in either of the characters enclosed. There are also short versions for some of the frequently used expressions: any lowercased character, any uppercased character, any digit. We can also combine them together.\n",
    "\n",
    "9. Repetitions\n",
    "Complex or simple metacharacters can be followed by symbols indicating how many times the associated character is repeated. \"*\" indicates that the character is absent or repeats an undefined number of times. \"+\" indicates that the character is present at least once. \"?\" indicates that the character exists or not. \"{}\" indicate the lower and upper bound for a character to be present.\n",
    "\n",
    "10. Regular expression for an e-mail\n",
    "Returning back to our previous example, a regular expression fitting an e-mail address can look like this. Let's have a better understanding.\n",
    "\n",
    "[\\w\\.]+@[a-z]+\\.[a-z]+\n",
    "\n",
    "11. Regular expression for an e-mail\n",
    "This part maps to at least one letter, digit, underscore, or dot character.\n",
    "\n",
    "[\\w\\.]+\n",
    "\n",
    "12. Regular expression for an e-mail\n",
    "The '@' symbol maps to itself.\n",
    "\n",
    "13. Regular expression for an e-mail\n",
    "This part maps to at least one lowercased letter.\n",
    "\n",
    "[a-z]+\n",
    "\n",
    "14. Regular expression for an e-mail\n",
    "Backslash and dot map simply to a dot character.\n",
    "\n",
    "15. Regular expression for an e-mail\n",
    "And again, mapping to at least one lowercased letter.\n",
    "\n",
    "16. re package\n",
    "We defined a regular expression. But how do we use it programmatically? The re package comes to help! Once we defined an expression, we can pass it to the .compile() function. Note that we use the \"r\" prefix before the expression. The next step is to use it against our text. We'll cover a couple of functions to do so.\n",
    "\n",
    "import re\n",
    "pattern = re.compile(r'[\\w\\.]+@[a-z]+\\.[a-z]+')\n",
    "\n",
    "17. re.finditer()\n",
    "The finditer() function returns a special object given a pattern and text. We can use this object in a for loop. In this case each item will represent a Match object containing the information about a single match in our text.\n",
    "\n",
    "18. re.finditer()\n",
    "To retrieve this information, we can call the following methods on our Match object. The .group() method will return the matching substring. The .start() and .end() methods return the start and end indices of the matching substring in a given text.\n",
    "\n",
    "19. re.findall()\n",
    "If we are only interested about the matching substrings, we can use the findall() function. It simply returns a list of substrings representing the matches to our pattern.\n",
    "\n",
    "20. re.split()\n",
    "Another interesting function is called split(). Instead of returning matches, the method splits a given string by a matching pattern. This results in a list of strings of the following form.\n",
    "\n",
    "21. Let's practice!\n",
    "That was a concise reminder on regular expressions. Now, let's practice our skills!"
   ]
  },
  {
   "cell_type": "markdown",
   "id": "103c0040",
   "metadata": {},
   "source": [
    "#### Write a regular expression\n",
    "Let's write some regular expressions!\n",
    "\n",
    "Your task is to create a regular expression matching a valid temperature represented either in Celsius or Fahrenheit scale (e.g. '+23.5 C', '-4 F', '0.0 C', '73.45 F') and to extract all the appearances from the given string text. Positive temperatures can be with or without the + prefix (e.g. '5 F', '+5 F'). Negative temperatures must be prefixed with -. Zero temperature can be used with a prefix or without.\n",
    "\n",
    "The re module is already imported.\n",
    "\n",
    "Tips:\n",
    "\n",
    "The + symbol within the square brackets [] matches the + symbol itself (e.g. the regular expression [1a+] matches to '1', 'a', or '+').\n",
    "You can also apply ? to the characters within the square brackets [] to make the set optional (e.g. [ab]? matches to 'a', 'b', or '').\n"
   ]
  },
  {
   "cell_type": "code",
   "execution_count": 11,
   "id": "7a501455",
   "metadata": {},
   "outputs": [
    {
     "name": "stdout",
     "output_type": "stream",
     "text": [
      "['+23 C', '0 C', '-20.0 C', '-2.2 C', '-5.65 C', '0.0001 C', '+73.4 F', '32 F', '-4.0 F', '+28.04 F', '21.83 F', '+32.00018 F']\n",
      "matching sequence = +23 C\n",
      "start index = 67\n",
      "end index = 72\n",
      "matching sequence = 0 C\n",
      "start index = 74\n",
      "end index = 77\n",
      "matching sequence = -20.0 C\n",
      "start index = 79\n",
      "end index = 86\n",
      "matching sequence = -2.2 C\n",
      "start index = 88\n",
      "end index = 94\n",
      "matching sequence = -5.65 C\n",
      "start index = 96\n",
      "end index = 103\n",
      "matching sequence = 0.0001 C\n",
      "start index = 105\n",
      "end index = 113\n",
      "matching sequence = +73.4 F\n",
      "start index = 295\n",
      "end index = 302\n",
      "matching sequence = 32 F\n",
      "start index = 304\n",
      "end index = 308\n",
      "matching sequence = -4.0 F\n",
      "start index = 310\n",
      "end index = 316\n",
      "matching sequence = +28.04 F\n",
      "start index = 318\n",
      "end index = 326\n",
      "matching sequence = 21.83 F\n",
      "start index = 328\n",
      "end index = 335\n",
      "matching sequence = +32.00018 F\n",
      "start index = 337\n",
      "end index = 348\n"
     ]
    }
   ],
   "source": [
    "import re\n",
    "\n",
    "text = \"\"\"Let's consider the following temperatures using the Celsius scale: +23 C, 0 C, -20.0 C, -2.2 C, -5.65 C, 0.0001 C. To convert them to the Fahrenheit scale you have to multiply the number by 9/5 and add 32 to the result. Therefore, the corresponding temperatures in the Fahrenheit scale will be: +73.4 F, 32 F, -4.0 F, +28.04 F, 21.83 F, +32.00018 F.\"\"\"\n",
    "\n",
    "# Define the pattern to search for valid temperatures\n",
    "pattern = re.compile(r'[+-]?\\d+\\.?\\d* [CF]')\n",
    "\n",
    "# Print the temperatures out\n",
    "print(re.findall(pattern, text))\n",
    "\n",
    "# Create an object storing the matches using 'finditer()'\n",
    "matches_storage = re.finditer(pattern, text)\n",
    "\n",
    "# Loop over matches_storage and print out item properties\n",
    "for match in matches_storage:\n",
    "    print('matching sequence = ' + match.group())\n",
    "    print('start index = ' + str(match.start()))\n",
    "    print('end index = ' + str(match.end()))"
   ]
  },
  {
   "cell_type": "markdown",
   "id": "9b34dc19",
   "metadata": {},
   "source": [
    "#### Find the correct pattern\n",
    "You visit a website and it asks you to fill in a registration form. The username section requires you to choose a name between 3 and 16 characters long. It can only include alphanumeric characters (no capital letters), hyphens, and underscores. Which of the following patterns will your input be matched against?\n",
    "\n",
    "The symbols ^ and $ were not discussed in the video lecture: they simply indicate the beginning and end of a line (in this case, the beginning and end of the chosen username).\n",
    "\n",
    "The module re is already imported for you."
   ]
  },
  {
   "cell_type": "code",
   "execution_count": null,
   "id": "0e70850a",
   "metadata": {},
   "outputs": [],
   "source": [
    "^[a-z0-9_-]{3,16}$"
   ]
  },
  {
   "cell_type": "code",
   "execution_count": 12,
   "id": "65fe6c37",
   "metadata": {},
   "outputs": [
    {
     "name": "stdout",
     "output_type": "stream",
     "text": [
      "1984, Michael Radford\n",
      "The Good, the Bad and the Ugly, Sergio Leone\n",
      "Terminator 2: Judgment Day, James Cameron\n",
      "Harry Potter and the Philosopher's Stone, Chris Columbus\n",
      "Back to the Future, Robert Zemeckis\n",
      "No Country for Old Men, Joel Coen, Ethan Coen\n"
     ]
    }
   ],
   "source": [
    "movies = ['1984, 1984, Michael Radford', 'The Good, the Bad and the Ugly, 1966, Sergio Leone', 'Terminator 2: Judgment Day, 1991, James Cameron', \"Harry Potter and the Philosopher's Stone, 2001, Chris Columbus\", 'Back to the Future, 1985, Robert Zemeckis', 'No Country for Old Men, 2007, Joel Coen, Ethan Coen']\n",
    "\n",
    "# Compile a regular expression\n",
    "pattern = re.compile(r', \\d+, ')\n",
    "\n",
    "movies_without_year = []\n",
    "for movie in movies:\n",
    "    # Retrieve a movie name and its director\n",
    "    split_result = re.split(pattern, movie)\n",
    "    # Create a new string with a movie name and its director\n",
    "    movie_and_director = ', '.join(split_result)\n",
    "    # Append the resulting string to movies_without_year\n",
    "    movies_without_year.append(movie_and_director)\n",
    "    \n",
    "for movie in movies_without_year:\n",
    "    print(movie)"
   ]
  },
  {
   "cell_type": "code",
   "execution_count": null,
   "id": "0936e197",
   "metadata": {},
   "outputs": [],
   "source": []
  }
 ],
 "metadata": {
  "kernelspec": {
   "display_name": "Python 3 (ipykernel)",
   "language": "python",
   "name": "python3"
  },
  "language_info": {
   "codemirror_mode": {
    "name": "ipython",
    "version": 3
   },
   "file_extension": ".py",
   "mimetype": "text/x-python",
   "name": "python",
   "nbconvert_exporter": "python",
   "pygments_lexer": "ipython3",
   "version": "3.9.18"
  }
 },
 "nbformat": 4,
 "nbformat_minor": 5
}
