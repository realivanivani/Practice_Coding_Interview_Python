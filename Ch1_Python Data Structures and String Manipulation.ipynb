{
 "cells": [
  {
   "cell_type": "markdown",
   "id": "9484aa01",
   "metadata": {},
   "source": [
    "### Python Data Structures and String Manipulation"
   ]
  },
  {
   "cell_type": "markdown",
   "id": "cede9da1",
   "metadata": {},
   "source": [
    "1. What are the main data structures in Python?\n",
    "Welcome to the course on Coding Interview Questions in Python! My name is Kirill Smirnov and I am a Data Science Consultant at Altran. We'll go through some common topics met during a job interview process. Let's start with the basic question: what are the main data structures in Python?\n",
    "\n",
    "2. Data Structure\n",
    "But first, what is a data structure? It is a specialized format to organize and store data. Python's standard library has four main data structures: list, tuple, set, and dictionary. Let's get through each of them!\n",
    "\n",
    "3. List\n",
    "List. List represents an ordered mutable sequence of items, like numbers, strings, and other objects. Lists are created by inserting comma-separated items into square brackets.\n",
    "\n",
    "4. List: accessing items\n",
    "To retrieve an item, we have to specify its index in square brackets after the variable's name. Remember, Python starts indexing from zero, not from one! Using negative indices is also possible. In this case, counting works backwards in the list. We can also access a sub-list via slicing. Note that the item corresponding to the right-hand side index is not included. Not specifying the left-hand or right-hand side index results in the whole range taken into account.\n",
    "\n",
    "5. List: modifying items\n",
    "Modifying items is very simple as well. We can change either a single item or a slice.\n",
    "\n",
    "6. List: methods\n",
    "Lists have some useful methods. .append() adds a new item to a list. .remove() deletes a specific item from a list.\n",
    "\n",
    "7. List: methods\n",
    ".pop() removes the last item from a list and returns its value. .count() counts the amount of a certain item in a list.\n",
    "\n",
    "8. Tuple\n",
    "Tuple. Tuple is an immutable sequence of items. Here, immutable means that we cannot modify it. There are two ways to create a tuple: Either by using round brackets or by writing comma-separated values. Accessing items in a tuple is similar to list mechanics.\n",
    "\n",
    "9. Tuple: modifying values\n",
    "Modifying though is not possible: we will get TypeError.\n",
    "\n",
    "10. Set\n",
    "Set. Set is an unordered collection with no duplicate items. Unordered means that there is no indexing for the constituent items. Here is the code to create a set. If we have duplicates during creation, they are not included.\n",
    "\n",
    "11. Set: methods\n",
    "Sets have some useful methods. .add() inserts a new item to a set. .remove() does the contrary. .union() returns a new set with items from both sets. .intersection() returns a new set with only common items. .difference() returns a new set with items present in one set but not in another.\n",
    "\n",
    "12. Dictionary\n",
    "Dictionary. Dictionary is a collection of key-value pairs where keys are unique and immutable. A key has a unique correspondence to its value but not vice versa. There are several ways to create a dictionary. For example, using curly brackets and specifying each key-value pair with a colon or using the dict() constructor together with a list of tuples.\n",
    "\n",
    "13. Dictionary: accessing values\n",
    "A value associated with a key can be accessed by specifying the key within square brackets. The operation raises KeyError if the key does not exist.\n",
    "\n",
    "14. Dictionary: modifying values\n",
    "Modifying the value for a key is very straightforward: Accessing the value and re-assigning it. If the key does not exist, the operation creates a new key-value pair.\n",
    "\n",
    "15. Dictionary: methods\n",
    "Dictionaries have some useful methods. .items() returns the stored key-value pairs.\n",
    "\n",
    "16. Dictionary: methods\n",
    "We can pass the method output to the list() constructor to get the corresponding list.\n",
    "\n",
    "17. Dictionary: methods\n",
    "We can also retrieve keys and values separately\n",
    "\n",
    "18. Dictionary: methods\n",
    "and also use the trick with the list() constructor.\n",
    "\n",
    "19. Dictionary: methods\n",
    "We can remove the last inserted key-value pair with the .popitem() method. The method also returns the associated value.\n",
    "\n",
    "20. Operations on Lists, Tuples, Sets, and Dictionaries\n",
    "We can apply some operations on all the aforementioned collections. One very practical is: len() that returns the collection's size.\n",
    "\n",
    "21. Operations on Lists, Tuples, Sets, and Dictionaries\n",
    "Another one uses the in keyword that checks if an item is already present in a collection.\n",
    "\n",
    "22. Let's practice!\n",
    "We went through some main data structures in Python. Now it's time to practice!"
   ]
  },
  {
   "cell_type": "markdown",
   "id": "9340a32b",
   "metadata": {},
   "source": [
    "#### List methods\n",
    "Let's practice list methods!\n",
    "\n",
    "Let's imagine a situation: you went to the market and filled your baskets (basket1 and basket2) with fruits. You wanted to have one of each kind but realized that some fruits were put in both baskets.\n",
    "\n",
    "Task 1. Your first task is to remove everything from basket2 that is already present in basket1.\n",
    "\n",
    "Task 2. After the removal it is reasonable to anticipate that one of the baskets might weigh more compared to the another (all fruit kinds weight the same). Therefore, the second task is to transfer some fruits from a heavier basket to the lighter one to get approximately the same weight/amount of fruits."
   ]
  },
  {
   "cell_type": "code",
   "execution_count": 10,
   "id": "ef2f0544",
   "metadata": {},
   "outputs": [],
   "source": [
    "basket1 = ['banana', 'kiwifruits', 'grapefruits', 'apples', 'apricots', 'nectarines', 'oranges', 'peaches', 'pears', 'lemons']\n",
    "basket2 = ['grapes', 'dragonfruits', 'limes', 'papaya']"
   ]
  },
  {
   "cell_type": "code",
   "execution_count": 11,
   "id": "8c565bb9",
   "metadata": {},
   "outputs": [
    {
     "name": "stdout",
     "output_type": "stream",
     "text": [
      "Basket 1: ['banana', 'kiwifruits', 'grapefruits', 'apples', 'apricots', 'nectarines', 'oranges', 'peaches', 'pears', 'lemons']\n",
      "Basket 2: ['grapes', 'dragonfruits', 'limes', 'papaya']\n",
      "Basket 1: ['banana', 'kiwifruits', 'grapefruits', 'apples', 'apricots', 'nectarines', 'oranges']\n",
      "Basket 2: ['grapes', 'dragonfruits', 'limes', 'papaya', 'lemons', 'pears', 'peaches']\n"
     ]
    }
   ],
   "source": [
    "# Remove fruits from basket2 that are present in basket1\n",
    "for item in basket1:\n",
    "    if item in basket2:\n",
    "        basket2.remove(item)\n",
    "\n",
    "print('Basket 1: ' + str(basket1))\n",
    "print('Basket 2: ' + str(basket2))\n",
    "\n",
    "# Transfer fruits from basket1 to basket2\n",
    "while len(basket1) > len(basket2):\n",
    "    item_to_transfer = basket1.pop()\n",
    "    basket2.append(item_to_transfer)\n",
    "\n",
    "print('Basket 1: ' + str(basket1))\n",
    "print('Basket 2: ' + str(basket2))"
   ]
  },
  {
   "cell_type": "markdown",
   "id": "9c0a8c26",
   "metadata": {},
   "source": [
    "#### Operations on sets\n",
    "Using mathematical notation, we can define the following operations given two sets X and Y:\n",
    "  \n",
    " - the intersection between \n",
    " X a Y (all elements which are in both X and Y)\n",
    "\n",
    "  \n",
    " - the union between \n",
    " X U Y (all elements which are either in X or Y)\n",
    "\n",
    "  \n",
    " - the difference between \n",
    "X - Y (all elements which are in X but not in Y)\n",
    "\n",
    "You are given 5 sets of integers A, B, C, D,E (You should see them in the console). What is the result of the following expression?\n",
    "\n",
    "(A U (B a C)) - (D a E)"
   ]
  },
  {
   "cell_type": "code",
   "execution_count": 3,
   "id": "bde2e954",
   "metadata": {},
   "outputs": [],
   "source": [
    "A = {1, 2, 3, 4, 5, 6, 7}\n",
    "B = {5, 7, 9, 11, 13, 15}\n",
    "C = {1, 2, 8, 10, 11, 12, 13, 14, 15, 16, 17}\n",
    "D = {1, 3, 5, 7, 9, 11, 12, 13, 14, 15, 16, 17, 18, 19, 20}\n",
    "E = {9, 10, 11, 12, 13, 14, 15}"
   ]
  },
  {
   "cell_type": "code",
   "execution_count": 4,
   "id": "09c2bc4a",
   "metadata": {},
   "outputs": [],
   "source": [
    "result = {1,2,3,4,5,6,7}"
   ]
  },
  {
   "cell_type": "code",
   "execution_count": null,
   "id": "66b299c8",
   "metadata": {},
   "outputs": [],
   "source": []
  }
 ],
 "metadata": {
  "kernelspec": {
   "display_name": "Python 3 (ipykernel)",
   "language": "python",
   "name": "python3"
  },
  "language_info": {
   "codemirror_mode": {
    "name": "ipython",
    "version": 3
   },
   "file_extension": ".py",
   "mimetype": "text/x-python",
   "name": "python",
   "nbconvert_exporter": "python",
   "pygments_lexer": "ipython3",
   "version": "3.11.5"
  }
 },
 "nbformat": 4,
 "nbformat_minor": 5
}
